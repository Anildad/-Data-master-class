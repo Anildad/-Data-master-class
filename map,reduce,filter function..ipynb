{
 "cells": [
  {
   "cell_type": "code",
   "execution_count": null,
   "id": "a4ee528e-0b8c-4dd8-b895-70e5b808bb34",
   "metadata": {},
   "outputs": [],
   "source": []
  },
  {
   "cell_type": "code",
   "execution_count": null,
   "id": "a0c97f2b-c270-4848-a285-022e59af208f",
   "metadata": {},
   "outputs": [],
   "source": [
    "# maping "
   ]
  },
  {
   "cell_type": "code",
   "execution_count": 4,
   "id": "6aec6875-e4fd-4a22-ba74-f3501d0f0514",
   "metadata": {},
   "outputs": [
    {
     "data": {
      "text/plain": [
       "[1, 4, 9, 16, 25]"
      ]
     },
     "execution_count": 4,
     "metadata": {},
     "output_type": "execute_result"
    }
   ],
   "source": [
    "def sq(x):\n",
    "    return x**2\n",
    "list(map(sq , l))"
   ]
  },
  {
   "cell_type": "code",
   "execution_count": null,
   "id": "d36a2209-e704-48c5-a919-99a6e47903bf",
   "metadata": {},
   "outputs": [],
   "source": []
  },
  {
   "cell_type": "code",
   "execution_count": 2,
   "id": "4d9ae4d1-7b66-4963-8e87-830a5d502066",
   "metadata": {},
   "outputs": [
    {
     "data": {
      "text/plain": [
       "[1, 8, 27, 64, 125]"
      ]
     },
     "execution_count": 2,
     "metadata": {},
     "output_type": "execute_result"
    }
   ],
   "source": [
    "l = [1,2,3,4,5]\n",
    "def sq(x):\n",
    "    return x**3\n",
    "list(map(sq , l))"
   ]
  },
  {
   "cell_type": "code",
   "execution_count": null,
   "id": "ac0b4d9f-e878-44a0-8f96-3dee59b24ad7",
   "metadata": {},
   "outputs": [],
   "source": []
  },
  {
   "cell_type": "code",
   "execution_count": 3,
   "id": "e4826fd9-d516-4349-a4ab-58b0363b2abf",
   "metadata": {},
   "outputs": [
    {
     "data": {
      "text/plain": [
       "[1, 4, 9, 16, 25]"
      ]
     },
     "execution_count": 3,
     "metadata": {},
     "output_type": "execute_result"
    }
   ],
   "source": [
    "l = [1,2,3,4,5]\n",
    "def test(l):\n",
    "    l1 = []\n",
    "    for i in l :\n",
    "        l1.append(i**2)\n",
    "    return l1\n",
    "test(l)"
   ]
  },
  {
   "cell_type": "code",
   "execution_count": null,
   "id": "be5373ee-2557-4a54-ae00-9d38c0e3a165",
   "metadata": {},
   "outputs": [],
   "source": []
  },
  {
   "cell_type": "code",
   "execution_count": 3,
   "id": "bf3bd58b-80f6-43b0-80c0-a6536d028df3",
   "metadata": {},
   "outputs": [
    {
     "data": {
      "text/plain": [
       "[1, 4, 9, 16, 25, 36]"
      ]
     },
     "execution_count": 3,
     "metadata": {},
     "output_type": "execute_result"
    }
   ],
   "source": [
    "l = [1,2,3,4,5,6]\n",
    "def sq(x):\n",
    "    return x**2\n",
    "list(map(sq , l))"
   ]
  },
  {
   "cell_type": "code",
   "execution_count": null,
   "id": "1f3fdd0f-b30c-42f2-bf18-354b157780ff",
   "metadata": {},
   "outputs": [],
   "source": []
  },
  {
   "cell_type": "code",
   "execution_count": 5,
   "id": "43f3cc2e-a1a0-415d-a111-c074fd4f87be",
   "metadata": {},
   "outputs": [
    {
     "data": {
      "text/plain": [
       "[8, 27, 64, 166375]"
      ]
     },
     "execution_count": 5,
     "metadata": {},
     "output_type": "execute_result"
    }
   ],
   "source": [
    "k = [2,3,4,55]\n",
    "def sq(x):\n",
    "    return x**3\n",
    "list(map(sq , k))"
   ]
  },
  {
   "cell_type": "code",
   "execution_count": null,
   "id": "a58362e5-a2d3-4883-b04f-a404221232eb",
   "metadata": {},
   "outputs": [],
   "source": []
  },
  {
   "cell_type": "code",
   "execution_count": 6,
   "id": "5fc2b5f4-30e1-4d21-a1c4-a2e7ceb64241",
   "metadata": {},
   "outputs": [
    {
     "data": {
      "text/plain": [
       "[4, 9, 16, 25]"
      ]
     },
     "execution_count": 6,
     "metadata": {},
     "output_type": "execute_result"
    }
   ],
   "source": [
    "k = [2,3,4,5]\n",
    "def sq(c):\n",
    "    return c**2\n",
    "list(map(sq , k))"
   ]
  },
  {
   "cell_type": "code",
   "execution_count": null,
   "id": "51af961e-9eaf-4a33-91ee-b8bb2dedadcc",
   "metadata": {},
   "outputs": [],
   "source": []
  },
  {
   "cell_type": "code",
   "execution_count": 1,
   "id": "60a42722-9acd-4e55-88ed-29ff5f14a8f8",
   "metadata": {},
   "outputs": [
    {
     "data": {
      "text/plain": [
       "[4, 1156, 2025, 25]"
      ]
     },
     "execution_count": 1,
     "metadata": {},
     "output_type": "execute_result"
    }
   ],
   "source": [
    "b = [2,34,45,5]\n",
    "def sq(c):\n",
    "    return c**2\n",
    "list(map(sq , b))"
   ]
  },
  {
   "cell_type": "code",
   "execution_count": null,
   "id": "edb5b00b-c559-434b-b297-57e5dc25f3c0",
   "metadata": {},
   "outputs": [],
   "source": [
    "# lambda is used in map"
   ]
  },
  {
   "cell_type": "code",
   "execution_count": 2,
   "id": "d5c0cd5c-282b-423f-a30c-d4bab6188dc3",
   "metadata": {},
   "outputs": [
    {
     "data": {
      "text/plain": [
       "[4, 9, 2025, 25]"
      ]
     },
     "execution_count": 2,
     "metadata": {},
     "output_type": "execute_result"
    }
   ],
   "source": [
    "l = [2,3,45,5]\n",
    "list(map(lambda x : x**2 , l))"
   ]
  },
  {
   "cell_type": "code",
   "execution_count": null,
   "id": "3ef8c4ca-8521-4795-945b-5a69fc1275e6",
   "metadata": {},
   "outputs": [],
   "source": []
  },
  {
   "cell_type": "code",
   "execution_count": 3,
   "id": "be57ace9-3c55-4007-a8b3-52bacde8ed27",
   "metadata": {},
   "outputs": [
    {
     "data": {
      "text/plain": [
       "[8, 27, 64, 125]"
      ]
     },
     "execution_count": 3,
     "metadata": {},
     "output_type": "execute_result"
    }
   ],
   "source": [
    "k = [2,3,4,5]\n",
    "list(map(lambda c : c**3 , k))"
   ]
  },
  {
   "cell_type": "code",
   "execution_count": null,
   "id": "1533cb91-6c39-47cc-a03a-1c5844c6e5ef",
   "metadata": {},
   "outputs": [],
   "source": [
    "#add in lambda"
   ]
  },
  {
   "cell_type": "code",
   "execution_count": 4,
   "id": "8e8c8185-7eec-4857-9c45-3bfc2ae47828",
   "metadata": {},
   "outputs": [
    {
     "data": {
      "text/plain": [
       "[4, 5, 47, 7]"
      ]
     },
     "execution_count": 4,
     "metadata": {},
     "output_type": "execute_result"
    }
   ],
   "source": [
    "#add in lambda\n",
    "l = [2,3,45,5]\n",
    "list(map(lambda x : x+2 , l))"
   ]
  },
  {
   "cell_type": "code",
   "execution_count": null,
   "id": "c2ec314b-98ab-475c-9412-6a6d074ca9c8",
   "metadata": {},
   "outputs": [],
   "source": []
  },
  {
   "cell_type": "code",
   "execution_count": 5,
   "id": "ce6e446c-cb17-41a4-8f4c-157f9a842c1a",
   "metadata": {},
   "outputs": [
    {
     "data": {
      "text/plain": [
       "[5, 6, 7, 8]"
      ]
     },
     "execution_count": 5,
     "metadata": {},
     "output_type": "execute_result"
    }
   ],
   "source": [
    "l = [2,3,4,5]\n",
    "list(map(lambda x : x+3 ,l))"
   ]
  },
  {
   "cell_type": "code",
   "execution_count": null,
   "id": "1ec5bd54-8fe7-4e62-a3cc-7b7b61ad0146",
   "metadata": {},
   "outputs": [],
   "source": []
  },
  {
   "cell_type": "code",
   "execution_count": null,
   "id": "1cd251aa-6bd1-4ea0-a8fa-9bf8ce30a4fb",
   "metadata": {},
   "outputs": [],
   "source": [
    "#convet the lambda in to string"
   ]
  },
  {
   "cell_type": "code",
   "execution_count": 6,
   "id": "2e3192c9-29a1-40ec-bb66-f32a9cf4b7b2",
   "metadata": {},
   "outputs": [
    {
     "data": {
      "text/plain": [
       "['1', '2', '3', '4', '5']"
      ]
     },
     "execution_count": 6,
     "metadata": {},
     "output_type": "execute_result"
    }
   ],
   "source": [
    "l = [1,2,3,4,5]\n",
    "list(map(lambda x : str(x) , l))"
   ]
  },
  {
   "cell_type": "code",
   "execution_count": null,
   "id": "d534fb30-5c24-4415-b04d-51ee22894ce9",
   "metadata": {},
   "outputs": [],
   "source": []
  },
  {
   "cell_type": "code",
   "execution_count": 7,
   "id": "ce6ab173-a0b1-49a9-9e3e-97aab97b0030",
   "metadata": {},
   "outputs": [
    {
     "data": {
      "text/plain": [
       "['2', '35', '5', '6', '7']"
      ]
     },
     "execution_count": 7,
     "metadata": {},
     "output_type": "execute_result"
    }
   ],
   "source": [
    "l = [2,35,5,6,7]\n",
    "list(map(lambda x : str(x) , l))"
   ]
  },
  {
   "cell_type": "code",
   "execution_count": null,
   "id": "489f756f-9b63-4542-b210-6786b623044f",
   "metadata": {},
   "outputs": [],
   "source": []
  },
  {
   "cell_type": "code",
   "execution_count": null,
   "id": "22c938cb-8972-439c-a8c6-a355bdeaf113",
   "metadata": {},
   "outputs": [],
   "source": [
    " # list adding in  map"
   ]
  },
  {
   "cell_type": "code",
   "execution_count": 1,
   "id": "90cb0da5-bb92-40cf-a47b-5971713c780f",
   "metadata": {},
   "outputs": [
    {
     "data": {
      "text/plain": [
       "[7, 9, 11, 13, 15]"
      ]
     },
     "execution_count": 1,
     "metadata": {},
     "output_type": "execute_result"
    }
   ],
   "source": [
    "l1 = [1,2,3,4,5]\n",
    "l2 = [6,7,8,9,10]\n",
    "list(map(lambda x,y : x+y , l1,l2))"
   ]
  },
  {
   "cell_type": "code",
   "execution_count": null,
   "id": "9ea57a03-ce3e-4cf6-b470-2f7c7a1852e1",
   "metadata": {},
   "outputs": [],
   "source": []
  },
  {
   "cell_type": "code",
   "execution_count": null,
   "id": "e568dde2-6bee-41dd-8e6a-f31637a3e10f",
   "metadata": {},
   "outputs": [],
   "source": []
  },
  {
   "cell_type": "code",
   "execution_count": null,
   "id": "c3f798b6-ede7-4787-b48d-8af3ea747dbd",
   "metadata": {},
   "outputs": [],
   "source": []
  },
  {
   "cell_type": "code",
   "execution_count": 2,
   "id": "7b73013b-31a5-4ed2-b513-c63fc195936e",
   "metadata": {},
   "outputs": [
    {
     "data": {
      "text/plain": [
       "[8, 10, 12, 14]"
      ]
     },
     "execution_count": 2,
     "metadata": {},
     "output_type": "execute_result"
    }
   ],
   "source": [
    "l1 = [2,3,4,5]\n",
    "l2 = [6,7,8,9]\n",
    "list(map(lambda x,y : x+y, l1,l2))"
   ]
  },
  {
   "cell_type": "code",
   "execution_count": null,
   "id": "2e4d3bab-72c6-46da-8f07-d658e5232d13",
   "metadata": {},
   "outputs": [],
   "source": [
    "f =lambda x,y : x+y"
   ]
  },
  {
   "cell_type": "code",
   "execution_count": 4,
   "id": "992de020-0c87-4c27-8a7c-71b5632d718d",
   "metadata": {},
   "outputs": [
    {
     "data": {
      "text/plain": [
       "[8, 10, 12, 14]"
      ]
     },
     "execution_count": 4,
     "metadata": {},
     "output_type": "execute_result"
    }
   ],
   "source": [
    "f = lambda x,y : x+y\n",
    "list(map(f, l1,l2))"
   ]
  },
  {
   "cell_type": "code",
   "execution_count": null,
   "id": "02ef495c-27eb-4fef-aea6-52ac356218d6",
   "metadata": {},
   "outputs": [],
   "source": []
  },
  {
   "cell_type": "code",
   "execution_count": null,
   "id": "f5d46735-59bd-414a-99b7-5643a876b4bd",
   "metadata": {},
   "outputs": [],
   "source": [
    "## write uppercase of string "
   ]
  },
  {
   "cell_type": "code",
   "execution_count": 7,
   "id": "99fe4e0e-37d7-43f5-82b3-076e31ff7418",
   "metadata": {},
   "outputs": [
    {
     "data": {
      "text/plain": [
       "['P', 'W', 'S', 'K', 'I', 'L', 'L', 'S']"
      ]
     },
     "execution_count": 7,
     "metadata": {},
     "output_type": "execute_result"
    }
   ],
   "source": [
    "s = \"pwskills\"\n",
    "list(map(lambda x : x.upper() ,s))"
   ]
  },
  {
   "cell_type": "code",
   "execution_count": null,
   "id": "bb2d61f1-fba9-4b4f-8017-e280ac81fbd8",
   "metadata": {},
   "outputs": [],
   "source": []
  },
  {
   "cell_type": "code",
   "execution_count": 8,
   "id": "49ce261e-9232-479a-a0df-af9cc85906de",
   "metadata": {},
   "outputs": [
    {
     "data": {
      "text/plain": [
       "['M', 'A', 'M', 'A', 'K', 'A', 'K', 'A']"
      ]
     },
     "execution_count": 8,
     "metadata": {},
     "output_type": "execute_result"
    }
   ],
   "source": [
    "k = \"mamakaka\"\n",
    "list(map(lambda x : x.upper() , k))"
   ]
  },
  {
   "cell_type": "code",
   "execution_count": null,
   "id": "3440b6b9-e427-4279-8112-e43cee138028",
   "metadata": {},
   "outputs": [],
   "source": []
  },
  {
   "cell_type": "code",
   "execution_count": null,
   "id": "223581dd-0001-4e17-aee3-d147e10621e2",
   "metadata": {},
   "outputs": [],
   "source": [
    "# Reduce"
   ]
  },
  {
   "cell_type": "code",
   "execution_count": 9,
   "id": "f586a5bb-395a-4f5a-8b86-b6c5c1c35ce3",
   "metadata": {},
   "outputs": [],
   "source": [
    "from functools import reduce"
   ]
  },
  {
   "cell_type": "code",
   "execution_count": 10,
   "id": "74d38324-49dc-4542-bca9-4e3dd9c3cab0",
   "metadata": {},
   "outputs": [
    {
     "data": {
      "text/plain": [
       "19"
      ]
     },
     "execution_count": 10,
     "metadata": {},
     "output_type": "execute_result"
    }
   ],
   "source": [
    "l = [1,2,3,4,5,4]\n",
    "reduce(lambda x , y  : x+y , l)"
   ]
  },
  {
   "cell_type": "code",
   "execution_count": null,
   "id": "d4e37468-1de3-46fb-ba3c-91548977410a",
   "metadata": {},
   "outputs": [],
   "source": []
  },
  {
   "cell_type": "code",
   "execution_count": 11,
   "id": "93e61ac3-f8d2-4c27-95ca-fcda43e83db4",
   "metadata": {},
   "outputs": [
    {
     "data": {
      "text/plain": [
       "30"
      ]
     },
     "execution_count": 11,
     "metadata": {},
     "output_type": "execute_result"
    }
   ],
   "source": [
    "l = [1,22,3,4]\n",
    "reduce(lambda x , y : x+y , l)"
   ]
  },
  {
   "cell_type": "code",
   "execution_count": null,
   "id": "09f9f354-f808-401c-874d-a084efd1688a",
   "metadata": {},
   "outputs": [],
   "source": []
  },
  {
   "cell_type": "code",
   "execution_count": 12,
   "id": "e7641a0e-aa21-42f6-bcdf-9f818b659d73",
   "metadata": {},
   "outputs": [
    {
     "data": {
      "text/plain": [
       "30"
      ]
     },
     "execution_count": 12,
     "metadata": {},
     "output_type": "execute_result"
    }
   ],
   "source": [
    "l = [1,22,3,4]\n",
    "def add(x,y):\n",
    "    return x+y\n",
    "reduce(add ,l)"
   ]
  },
  {
   "cell_type": "code",
   "execution_count": null,
   "id": "12dc99bd-8508-4921-8f3f-981f1b8cd2af",
   "metadata": {},
   "outputs": [],
   "source": []
  },
  {
   "cell_type": "code",
   "execution_count": null,
   "id": "ed00874b-e1c3-499d-84b9-ecb796aa5aef",
   "metadata": {},
   "outputs": [],
   "source": [
    "## reduce to maximum"
   ]
  },
  {
   "cell_type": "code",
   "execution_count": 13,
   "id": "8464b366-db5e-43a2-8b2d-3281c533dfb8",
   "metadata": {},
   "outputs": [
    {
     "data": {
      "text/plain": [
       "5"
      ]
     },
     "execution_count": 13,
     "metadata": {},
     "output_type": "execute_result"
    }
   ],
   "source": [
    "l = [1,2,3,4,5]\n",
    "reduce(lambda x,y : x if x> y else y,l)"
   ]
  },
  {
   "cell_type": "code",
   "execution_count": null,
   "id": "a160764b-4713-4b77-9f9f-a331f0cb9767",
   "metadata": {},
   "outputs": [],
   "source": []
  },
  {
   "cell_type": "code",
   "execution_count": 14,
   "id": "f6aa29f8-f39c-44d5-8be2-bb98246c16ee",
   "metadata": {},
   "outputs": [
    {
     "data": {
      "text/plain": [
       "45"
      ]
     },
     "execution_count": 14,
     "metadata": {},
     "output_type": "execute_result"
    }
   ],
   "source": [
    "l = [1,2,3,4,45,5]\n",
    "reduce(lambda x,y : x if x> y else y,l)"
   ]
  },
  {
   "cell_type": "code",
   "execution_count": null,
   "id": "1dfebc4f-ed6b-4675-b215-8055aa7ad64b",
   "metadata": {},
   "outputs": [],
   "source": []
  },
  {
   "cell_type": "code",
   "execution_count": null,
   "id": "f6b04564-dce8-46ab-9e9d-0a5948f94b20",
   "metadata": {},
   "outputs": [],
   "source": [
    "#filter function(filter the odd or even number)"
   ]
  },
  {
   "cell_type": "code",
   "execution_count": null,
   "id": "d19076fc-6319-42b9-8b06-3874f65e9195",
   "metadata": {},
   "outputs": [],
   "source": [
    "even number"
   ]
  },
  {
   "cell_type": "code",
   "execution_count": 15,
   "id": "ef43d090-9066-4585-a97e-f1fce2e0a471",
   "metadata": {},
   "outputs": [
    {
     "data": {
      "text/plain": [
       "[2, 4, 4]"
      ]
     },
     "execution_count": 15,
     "metadata": {},
     "output_type": "execute_result"
    }
   ],
   "source": [
    "l = [1,2,3,4,5,4]\n",
    "list(filter(lambda x : x % 2 ==0 , l))"
   ]
  },
  {
   "cell_type": "code",
   "execution_count": null,
   "id": "b62eb1df-4dc3-4fdf-97b4-9d4505267153",
   "metadata": {},
   "outputs": [],
   "source": []
  },
  {
   "cell_type": "code",
   "execution_count": null,
   "id": "4fc245c6-21dd-42ae-abb1-b89930003270",
   "metadata": {},
   "outputs": [],
   "source": []
  },
  {
   "cell_type": "code",
   "execution_count": 22,
   "id": "8514027e-8171-4596-a1fd-b1c0d4f42905",
   "metadata": {},
   "outputs": [
    {
     "data": {
      "text/plain": [
       "[1, 3, 5, 7]"
      ]
     },
     "execution_count": 22,
     "metadata": {},
     "output_type": "execute_result"
    }
   ],
   "source": [
    "l = [1,2,3,4,5,6,7]\n",
    "list(filter(lambda x : x % 2 !=0 , l))"
   ]
  },
  {
   "cell_type": "code",
   "execution_count": null,
   "id": "e3a58593-ea1e-4029-8be5-2a1b3b99d2d1",
   "metadata": {},
   "outputs": [],
   "source": []
  },
  {
   "cell_type": "code",
   "execution_count": null,
   "id": "50f0665b-2b84-4aa4-94df-a67f3e510a28",
   "metadata": {},
   "outputs": [],
   "source": [
    "#find the negative in filter"
   ]
  },
  {
   "cell_type": "code",
   "execution_count": 24,
   "id": "1724be5a-ce5d-47ab-9321-47513853c75c",
   "metadata": {},
   "outputs": [
    {
     "data": {
      "text/plain": [
       "[-2, -3, -6, -7]"
      ]
     },
     "execution_count": 24,
     "metadata": {},
     "output_type": "execute_result"
    }
   ],
   "source": [
    "l1 = [-2,4,5,6,-3,-6,-7]\n",
    "list(filter(lambda x : x < 0 ,l1))"
   ]
  },
  {
   "cell_type": "code",
   "execution_count": null,
   "id": "8e17144b-fb86-481f-b84c-45632c306af7",
   "metadata": {},
   "outputs": [],
   "source": []
  },
  {
   "cell_type": "code",
   "execution_count": null,
   "id": "96caa745-dd8e-4c55-a6af-0c8155159ea3",
   "metadata": {},
   "outputs": [],
   "source": [
    "#find the positive in filter"
   ]
  },
  {
   "cell_type": "code",
   "execution_count": 25,
   "id": "2b8c15a8-668c-4f73-ae7c-39b799ae477a",
   "metadata": {},
   "outputs": [
    {
     "data": {
      "text/plain": [
       "[4, 5, 6]"
      ]
     },
     "execution_count": 25,
     "metadata": {},
     "output_type": "execute_result"
    }
   ],
   "source": [
    "l1 = [-2,4,5,6,-3,-6,-7]\n",
    "list(filter(lambda x : x > 0 ,l1))"
   ]
  },
  {
   "cell_type": "code",
   "execution_count": null,
   "id": "1e8676cd-3987-4183-8728-3dd9ed75c163",
   "metadata": {},
   "outputs": [],
   "source": [
    "#find len in given string in a filter"
   ]
  },
  {
   "cell_type": "code",
   "execution_count": 26,
   "id": "09b61b99-2492-4cc0-9b10-f99f14bdf721",
   "metadata": {},
   "outputs": [
    {
     "data": {
      "text/plain": [
       "['sir', 'mama', 'comab']"
      ]
     },
     "execution_count": 26,
     "metadata": {},
     "output_type": "execute_result"
    }
   ],
   "source": [
    "l2 = [\"sir\" , \"mama\" , \"comab\" , \"papafab\"]\n",
    "list(filter(lambda x : len(x) < 6 , l2))"
   ]
  },
  {
   "cell_type": "code",
   "execution_count": null,
   "id": "8e70044e-c37c-4b7a-b7fe-3987054c0346",
   "metadata": {},
   "outputs": [],
   "source": []
  },
  {
   "cell_type": "code",
   "execution_count": null,
   "id": "f284ebdc-fc7e-4823-9861-7d4e05fef9aa",
   "metadata": {},
   "outputs": [],
   "source": []
  }
 ],
 "metadata": {
  "kernelspec": {
   "display_name": "Python 3 (ipykernel)",
   "language": "python",
   "name": "python3"
  },
  "language_info": {
   "codemirror_mode": {
    "name": "ipython",
    "version": 3
   },
   "file_extension": ".py",
   "mimetype": "text/x-python",
   "name": "python",
   "nbconvert_exporter": "python",
   "pygments_lexer": "ipython3",
   "version": "3.10.8"
  }
 },
 "nbformat": 4,
 "nbformat_minor": 5
}
