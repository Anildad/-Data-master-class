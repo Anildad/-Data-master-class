{
 "cells": [
  {
   "cell_type": "code",
   "execution_count": 1,
   "id": "9ab60fdb-415a-4566-91f6-91f3a12d1d41",
   "metadata": {},
   "outputs": [],
   "source": [
    "class parent:\n",
    "    \n",
    "    def test_parent(self) : \n",
    "        print(\"this is my parent class \")"
   ]
  },
  {
   "cell_type": "code",
   "execution_count": 2,
   "id": "45ee996d-e710-4d08-b9e1-65f9d1bb5dec",
   "metadata": {},
   "outputs": [],
   "source": [
    "class child(parent):\n",
    "    pass"
   ]
  },
  {
   "cell_type": "code",
   "execution_count": 3,
   "id": "072650c3-da37-441a-b636-462533ab41c2",
   "metadata": {},
   "outputs": [],
   "source": [
    "child_obj = child()"
   ]
  },
  {
   "cell_type": "code",
   "execution_count": 4,
   "id": "3ed93b5f-dcbf-49c3-9240-98da3c333cda",
   "metadata": {},
   "outputs": [
    {
     "name": "stdout",
     "output_type": "stream",
     "text": [
      "this is my parent class \n"
     ]
    }
   ],
   "source": [
    "child_obj.test_parent()"
   ]
  },
  {
   "cell_type": "code",
   "execution_count": 5,
   "id": "c6cf06d8-fc8b-49c8-b998-72123cedf565",
   "metadata": {},
   "outputs": [],
   "source": [
    "class class1 :\n",
    "    def test_class1(self) : \n",
    "        print(\"this is my class1 \" )"
   ]
  },
  {
   "cell_type": "code",
   "execution_count": 6,
   "id": "fae5e46f-91e4-44f5-b1fd-d13a622a5394",
   "metadata": {},
   "outputs": [],
   "source": [
    "class class2(class1) : \n",
    "    def test_class2(self) : \n",
    "        print(\"this is my class2\" )"
   ]
  },
  {
   "cell_type": "code",
   "execution_count": 7,
   "id": "19f2fd8b-ce85-4fa4-92fb-9ae0758675ed",
   "metadata": {},
   "outputs": [],
   "source": [
    "class class3(class2) : \n",
    "    def test_class3(self) : \n",
    "        print(\"this is my class3 \")"
   ]
  },
  {
   "cell_type": "code",
   "execution_count": 8,
   "id": "759a8eee-763d-405a-b897-0c7f4b78fdd4",
   "metadata": {},
   "outputs": [],
   "source": [
    "obj_class3  = class3()"
   ]
  },
  {
   "cell_type": "code",
   "execution_count": 9,
   "id": "78311224-7483-4de6-b6e5-3d4338e858f5",
   "metadata": {},
   "outputs": [
    {
     "name": "stdout",
     "output_type": "stream",
     "text": [
      "this is my class1 \n"
     ]
    }
   ],
   "source": [
    "obj_class3.test_class1()"
   ]
  },
  {
   "cell_type": "code",
   "execution_count": 10,
   "id": "dbd54953-d873-4dce-bf32-d9bbcdbeaf95",
   "metadata": {},
   "outputs": [
    {
     "name": "stdout",
     "output_type": "stream",
     "text": [
      "this is my class2\n"
     ]
    }
   ],
   "source": [
    "obj_class3.test_class2()"
   ]
  },
  {
   "cell_type": "code",
   "execution_count": 11,
   "id": "db9150d7-c6f4-4653-8186-6e377672edeb",
   "metadata": {},
   "outputs": [
    {
     "name": "stdout",
     "output_type": "stream",
     "text": [
      "this is my class3 \n"
     ]
    }
   ],
   "source": [
    "obj_class3.test_class3()"
   ]
  },
  {
   "cell_type": "code",
   "execution_count": null,
   "id": "7ba33dd9-46d3-441c-b6c0-348b6127bb4c",
   "metadata": {},
   "outputs": [],
   "source": []
  },
  {
   "cell_type": "code",
   "execution_count": null,
   "id": "5456d8dc-9547-4c46-9997-d32dee601a2b",
   "metadata": {},
   "outputs": [],
   "source": []
  },
  {
   "cell_type": "code",
   "execution_count": null,
   "id": "14df3d56-a6ad-4ac9-a6e6-9a78569de768",
   "metadata": {},
   "outputs": [],
   "source": []
  },
  {
   "cell_type": "code",
   "execution_count": 12,
   "id": "a526ccfe-3d6e-484c-8013-88ad46bbac90",
   "metadata": {},
   "outputs": [],
   "source": [
    "class class1:\n",
    "    def test_class1(self) : \n",
    "        print(\"this is my class 1\" )"
   ]
  },
  {
   "cell_type": "code",
   "execution_count": 13,
   "id": "dca41736-065f-4f00-9030-5a9b4ef88ab8",
   "metadata": {},
   "outputs": [],
   "source": [
    "class class2 :\n",
    "    def test_class2(self) : \n",
    "        print(\"this is my class 2\")"
   ]
  },
  {
   "cell_type": "code",
   "execution_count": 14,
   "id": "8cd32f8a-79e1-4ace-9832-82ba590b283b",
   "metadata": {},
   "outputs": [],
   "source": [
    "class class3 (class1 , class2) : \n",
    "    pass"
   ]
  },
  {
   "cell_type": "code",
   "execution_count": 15,
   "id": "8d7481d7-4dd9-4c4f-a3b7-efe42db35dde",
   "metadata": {},
   "outputs": [],
   "source": [
    "obj_class3 = class3()"
   ]
  },
  {
   "cell_type": "code",
   "execution_count": 16,
   "id": "603c2733-71c5-480a-aa27-57e204321a33",
   "metadata": {},
   "outputs": [
    {
     "name": "stdout",
     "output_type": "stream",
     "text": [
      "this is my class 1\n"
     ]
    }
   ],
   "source": [
    "obj_class3.test_class1()"
   ]
  },
  {
   "cell_type": "code",
   "execution_count": 17,
   "id": "1436a28b-48cb-4de7-aa02-79d26b1b9f49",
   "metadata": {},
   "outputs": [
    {
     "name": "stdout",
     "output_type": "stream",
     "text": [
      "this is my class 2\n"
     ]
    }
   ],
   "source": [
    "obj_class3.test_class2()"
   ]
  },
  {
   "cell_type": "code",
   "execution_count": null,
   "id": "0aee6f6a-76cc-410e-a32f-0ef4b04c15eb",
   "metadata": {},
   "outputs": [],
   "source": []
  },
  {
   "cell_type": "code",
   "execution_count": null,
   "id": "6c72f6ac-2978-44be-b953-02903ad9125e",
   "metadata": {},
   "outputs": [],
   "source": []
  },
  {
   "cell_type": "code",
   "execution_count": null,
   "id": "c190b7ba-e873-4104-a273-33ae6bec1be0",
   "metadata": {},
   "outputs": [],
   "source": []
  },
  {
   "cell_type": "code",
   "execution_count": 18,
   "id": "d7b2bd2d-936a-45a4-a478-55ec94e8d9de",
   "metadata": {},
   "outputs": [],
   "source": [
    "class class1 :\n",
    "    def test_class1(self) :\n",
    "        print(\"this is my class1 \")"
   ]
  },
  {
   "cell_type": "code",
   "execution_count": 19,
   "id": "5505fe44-c82f-4823-8fa2-1a96ac523693",
   "metadata": {},
   "outputs": [],
   "source": [
    "class class2(class1) :\n",
    "    def test_class2(self) :\n",
    "        print(\"this is my class2 \")"
   ]
  },
  {
   "cell_type": "code",
   "execution_count": 20,
   "id": "f6ef8208-17e4-4f6c-b72f-cf4d0f6c3ea5",
   "metadata": {},
   "outputs": [],
   "source": [
    "class class3(class2) :\n",
    "    def test_class3(self) :\n",
    "        print(\"this is my class3 \")"
   ]
  },
  {
   "cell_type": "code",
   "execution_count": 21,
   "id": "12c878fe-0dd2-4b1c-82d8-3855724aaa4f",
   "metadata": {},
   "outputs": [],
   "source": [
    "obj_class3 = class3()"
   ]
  },
  {
   "cell_type": "code",
   "execution_count": 22,
   "id": "92d9205d-2451-42af-b2b2-8f27fd2f621f",
   "metadata": {},
   "outputs": [
    {
     "name": "stdout",
     "output_type": "stream",
     "text": [
      "this is my class1 \n"
     ]
    }
   ],
   "source": [
    "obj_class3.test_class1()"
   ]
  },
  {
   "cell_type": "code",
   "execution_count": 23,
   "id": "3a77e02b-62d3-4a21-b4b0-7676185473dc",
   "metadata": {},
   "outputs": [],
   "source": [
    "obj_class2 = class2()"
   ]
  },
  {
   "cell_type": "code",
   "execution_count": 24,
   "id": "86e81da5-a157-438d-8db1-38ea379b92b7",
   "metadata": {},
   "outputs": [
    {
     "name": "stdout",
     "output_type": "stream",
     "text": [
      "this is my class2 \n"
     ]
    }
   ],
   "source": [
    "obj_class2.test_class2()"
   ]
  },
  {
   "cell_type": "code",
   "execution_count": 25,
   "id": "d10c5b7f-fca9-4d81-87d5-2b08d850c8ee",
   "metadata": {},
   "outputs": [],
   "source": [
    "obj_class3 = class2()"
   ]
  },
  {
   "cell_type": "code",
   "execution_count": 26,
   "id": "1c7a43ad-0ac5-469c-8d26-39d80dba0110",
   "metadata": {},
   "outputs": [
    {
     "name": "stdout",
     "output_type": "stream",
     "text": [
      "this is my class2 \n"
     ]
    }
   ],
   "source": [
    "obj_class3.test_class2()"
   ]
  },
  {
   "cell_type": "code",
   "execution_count": null,
   "id": "e34c939a-c7db-4b57-904d-b7e460bce4a9",
   "metadata": {},
   "outputs": [],
   "source": []
  },
  {
   "cell_type": "code",
   "execution_count": null,
   "id": "62a02643-d1b4-49df-a24c-414c42ca4b14",
   "metadata": {},
   "outputs": [],
   "source": []
  },
  {
   "cell_type": "code",
   "execution_count": null,
   "id": "59219580-c4e2-4298-9f10-49625b27f64f",
   "metadata": {},
   "outputs": [],
   "source": []
  },
  {
   "cell_type": "code",
   "execution_count": 27,
   "id": "4f7fdeda-4bf4-4dec-89ea-fab72370c693",
   "metadata": {},
   "outputs": [],
   "source": [
    "# multilevel inheretance"
   ]
  },
  {
   "cell_type": "code",
   "execution_count": 28,
   "id": "a976e3a4-d909-414e-899e-5af649297949",
   "metadata": {},
   "outputs": [],
   "source": [
    "class class1 :\n",
    "    def test_class1(self) :\n",
    "        print(\" this is my class1 \")"
   ]
  },
  {
   "cell_type": "code",
   "execution_count": 29,
   "id": "de6a6d72-123a-462e-902a-559e8830d2e4",
   "metadata": {},
   "outputs": [],
   "source": [
    "class class2(class1) :\n",
    "    def test_class2(self) :\n",
    "        print(\"this is my class2 \")"
   ]
  },
  {
   "cell_type": "code",
   "execution_count": 30,
   "id": "cee58698-f5c0-4145-8a40-af859e2685e5",
   "metadata": {},
   "outputs": [],
   "source": [
    "class class3(class2) :\n",
    "    def test_class3(self) :\n",
    "        print(\" this is my class3 \")"
   ]
  },
  {
   "cell_type": "code",
   "execution_count": 31,
   "id": "39f54c1d-a085-42ed-8f68-bb971114d8a2",
   "metadata": {},
   "outputs": [],
   "source": [
    "obj_class2 = class2()"
   ]
  },
  {
   "cell_type": "code",
   "execution_count": 32,
   "id": "ba0bebe9-ec02-43d8-ab76-04c13fbb8549",
   "metadata": {},
   "outputs": [
    {
     "name": "stdout",
     "output_type": "stream",
     "text": [
      " this is my class1 \n"
     ]
    }
   ],
   "source": [
    "obj_class2.test_class1()"
   ]
  },
  {
   "cell_type": "code",
   "execution_count": 33,
   "id": "1888e6d7-def2-4823-9ab8-4a9f0414a6cf",
   "metadata": {},
   "outputs": [],
   "source": [
    "obj_class3 = class3()"
   ]
  },
  {
   "cell_type": "code",
   "execution_count": 34,
   "id": "4c8e4205-0fe8-47fa-b045-2e1331aface0",
   "metadata": {},
   "outputs": [
    {
     "name": "stdout",
     "output_type": "stream",
     "text": [
      "this is my class2 \n"
     ]
    }
   ],
   "source": [
    "obj_class3.test_class2()"
   ]
  },
  {
   "cell_type": "code",
   "execution_count": 35,
   "id": "17164475-bd2c-4faf-b986-8d516b8ef0f0",
   "metadata": {},
   "outputs": [],
   "source": [
    "obj_class3= class1()"
   ]
  },
  {
   "cell_type": "code",
   "execution_count": 36,
   "id": "b2fe6ef0-7b47-4c17-bd00-127866bd8ba1",
   "metadata": {},
   "outputs": [
    {
     "name": "stdout",
     "output_type": "stream",
     "text": [
      " this is my class1 \n"
     ]
    }
   ],
   "source": [
    "obj_class3.test_class1()"
   ]
  },
  {
   "cell_type": "code",
   "execution_count": null,
   "id": "90ae4c4b-810a-43d7-b51a-de66047d6165",
   "metadata": {},
   "outputs": [],
   "source": []
  },
  {
   "cell_type": "code",
   "execution_count": null,
   "id": "533cc67a-5b68-4199-b81e-701ed01cc999",
   "metadata": {},
   "outputs": [],
   "source": []
  },
  {
   "cell_type": "code",
   "execution_count": 37,
   "id": "d2ac3ac9-6c67-42d9-acdb-6ed3f1569804",
   "metadata": {},
   "outputs": [],
   "source": [
    "class class1 :\n",
    "    def test_class1(self):\n",
    "        print(\"this is my class 1 \")"
   ]
  },
  {
   "cell_type": "code",
   "execution_count": 38,
   "id": "80bb9b0f-0ccb-4745-a442-212d892d276a",
   "metadata": {},
   "outputs": [],
   "source": [
    "class class2 :\n",
    "    def test_class2(self) :\n",
    "        print(\"this is my class 2 \")"
   ]
  },
  {
   "cell_type": "code",
   "execution_count": 39,
   "id": "2f16de12-c798-4102-bb4a-aa979f0c4246",
   "metadata": {},
   "outputs": [],
   "source": [
    "class class3 (class1 ,class2 ):\n",
    "          pass"
   ]
  },
  {
   "cell_type": "code",
   "execution_count": 40,
   "id": "9b362cbe-ea58-41f9-af53-866c877eafc5",
   "metadata": {},
   "outputs": [
    {
     "ename": "TypeError",
     "evalue": "'class1' object is not callable",
     "output_type": "error",
     "traceback": [
      "\u001b[0;31m---------------------------------------------------------------------------\u001b[0m",
      "\u001b[0;31mTypeError\u001b[0m                                 Traceback (most recent call last)",
      "Cell \u001b[0;32mIn[40], line 1\u001b[0m\n\u001b[0;32m----> 1\u001b[0m obj_class3\u001b[38;5;241m=\u001b[39m \u001b[43mobj_class3\u001b[49m\u001b[43m(\u001b[49m\u001b[43m)\u001b[49m\n",
      "\u001b[0;31mTypeError\u001b[0m: 'class1' object is not callable"
     ]
    }
   ],
   "source": [
    "obj_class3= obj_class3()"
   ]
  },
  {
   "cell_type": "code",
   "execution_count": null,
   "id": "85a7f6f4-bc4e-418b-93ad-64a0ee4a8740",
   "metadata": {},
   "outputs": [],
   "source": [
    "obj_class3.test_class1()"
   ]
  },
  {
   "cell_type": "code",
   "execution_count": 41,
   "id": "ab61aefb-0033-4915-a466-0fb64bc75997",
   "metadata": {},
   "outputs": [
    {
     "ename": "AttributeError",
     "evalue": "'class1' object has no attribute 'test_class2'",
     "output_type": "error",
     "traceback": [
      "\u001b[0;31m---------------------------------------------------------------------------\u001b[0m",
      "\u001b[0;31mAttributeError\u001b[0m                            Traceback (most recent call last)",
      "Cell \u001b[0;32mIn[41], line 1\u001b[0m\n\u001b[0;32m----> 1\u001b[0m \u001b[43mobj_class3\u001b[49m\u001b[38;5;241;43m.\u001b[39;49m\u001b[43mtest_class2\u001b[49m()\n",
      "\u001b[0;31mAttributeError\u001b[0m: 'class1' object has no attribute 'test_class2'"
     ]
    }
   ],
   "source": [
    "obj_class3.test_class2()"
   ]
  },
  {
   "cell_type": "code",
   "execution_count": null,
   "id": "4196b59f-9220-4211-9104-e1301e0529af",
   "metadata": {},
   "outputs": [],
   "source": []
  },
  {
   "cell_type": "code",
   "execution_count": 45,
   "id": "14133bcb-38e8-4583-abfa-e26c7e45f246",
   "metadata": {},
   "outputs": [],
   "source": [
    "class class1 :\n",
    "    def test_class1(self) :\n",
    "        print(\"this is my class1 \")"
   ]
  },
  {
   "cell_type": "code",
   "execution_count": 51,
   "id": "c1573ce4-824f-4abd-ae26-d79b4b0fd1f6",
   "metadata": {},
   "outputs": [],
   "source": [
    "class class2 :\n",
    "    def test_class2(self) :\n",
    "        print(\"this is my class2 \")"
   ]
  },
  {
   "cell_type": "code",
   "execution_count": 54,
   "id": "e083be0f-e1b9-4743-9a1b-0fe7999a5112",
   "metadata": {},
   "outputs": [],
   "source": [
    "class class3( class1 ,class2 ) :\n",
    "    pass"
   ]
  },
  {
   "cell_type": "code",
   "execution_count": 53,
   "id": "d702c967-fa2b-411d-a931-868d818443ec",
   "metadata": {},
   "outputs": [],
   "source": [
    "obj_class3 = class3()"
   ]
  },
  {
   "cell_type": "code",
   "execution_count": 58,
   "id": "e3f5b581-7b8e-4737-9c70-ab109c8d7de5",
   "metadata": {},
   "outputs": [
    {
     "name": "stdout",
     "output_type": "stream",
     "text": [
      "this is my class1 \n"
     ]
    }
   ],
   "source": [
    "obj_class3.test_class1()"
   ]
  },
  {
   "cell_type": "code",
   "execution_count": 61,
   "id": "a9c40b0f-e7f9-4d5b-bd43-980f3d879d17",
   "metadata": {},
   "outputs": [
    {
     "name": "stdout",
     "output_type": "stream",
     "text": [
      "this is my class1 \n"
     ]
    }
   ],
   "source": [
    "obj_class3.test_class2()"
   ]
  },
  {
   "cell_type": "code",
   "execution_count": null,
   "id": "ec833cd6-0957-4126-993f-d4d0fa6e6237",
   "metadata": {},
   "outputs": [],
   "source": []
  },
  {
   "cell_type": "code",
   "execution_count": 62,
   "id": "734fa25d-3f03-4801-869f-9129b19e6cf7",
   "metadata": {},
   "outputs": [],
   "source": [
    "class class1 :\n",
    "    def test_class1(self):\n",
    "        print(\" this is my class1\")"
   ]
  },
  {
   "cell_type": "code",
   "execution_count": 63,
   "id": "2e1eeac1-7daf-4791-8b38-9e9e9d795911",
   "metadata": {},
   "outputs": [],
   "source": [
    "class class2 :\n",
    "    def test_class2(self):\n",
    "        print(\" this is my class2\")"
   ]
  },
  {
   "cell_type": "code",
   "execution_count": 64,
   "id": "1f48f01a-7bff-4fcc-9188-342f774d445b",
   "metadata": {},
   "outputs": [],
   "source": [
    "class class3( class1 , class2) :\n",
    "    pass"
   ]
  },
  {
   "cell_type": "code",
   "execution_count": 66,
   "id": "29c68b74-26c1-4a32-8400-524b02268907",
   "metadata": {},
   "outputs": [],
   "source": [
    "obj_class3 = class3()"
   ]
  },
  {
   "cell_type": "code",
   "execution_count": 67,
   "id": "bb0b4c6f-3e94-4d0e-973a-dcb19da59284",
   "metadata": {},
   "outputs": [
    {
     "name": "stdout",
     "output_type": "stream",
     "text": [
      " this is my class1\n"
     ]
    }
   ],
   "source": [
    "obj_class3.test_class1()"
   ]
  },
  {
   "cell_type": "code",
   "execution_count": 68,
   "id": "ae0414ef-b8aa-4d08-8895-16d41e21fdba",
   "metadata": {},
   "outputs": [
    {
     "name": "stdout",
     "output_type": "stream",
     "text": [
      " this is my class2\n"
     ]
    }
   ],
   "source": [
    "obj_class3.test_class2()"
   ]
  },
  {
   "cell_type": "code",
   "execution_count": null,
   "id": "3d9d67f1-2c26-4957-b872-2666320fcb68",
   "metadata": {},
   "outputs": [],
   "source": []
  },
  {
   "cell_type": "code",
   "execution_count": null,
   "id": "036b9d1a-29ad-427f-9a95-89db3e9f92d9",
   "metadata": {},
   "outputs": [],
   "source": []
  },
  {
   "cell_type": "code",
   "execution_count": null,
   "id": "c4e28ef9-ca16-4cb6-9700-c46ba70bc97f",
   "metadata": {},
   "outputs": [],
   "source": []
  },
  {
   "cell_type": "code",
   "execution_count": 70,
   "id": "b726ccbb-6477-4594-9afe-7e89e907e516",
   "metadata": {},
   "outputs": [],
   "source": [
    "class class1 :\n",
    "    def test_class1(self):\n",
    "        print(\" this is my class1\")"
   ]
  },
  {
   "cell_type": "code",
   "execution_count": 69,
   "id": "80192b48-13a5-4afa-975f-c851a6d1d251",
   "metadata": {},
   "outputs": [],
   "source": [
    "class class2(class1):\n",
    "    def test_class2(self):\n",
    "        print(\" this is my class2\")"
   ]
  },
  {
   "cell_type": "code",
   "execution_count": 69,
   "id": "77a005c9-d022-4716-b538-5088a2940378",
   "metadata": {},
   "outputs": [],
   "source": [
    "class class3(class2):\n",
    "    def test_class3(self):\n",
    "        print(\" this is my class3\")"
   ]
  },
  {
   "cell_type": "code",
   "execution_count": 71,
   "id": "bceb6680-c386-47a9-b63b-cfb52b431db1",
   "metadata": {},
   "outputs": [],
   "source": [
    "obj_class3 = class3()"
   ]
  },
  {
   "cell_type": "code",
   "execution_count": 72,
   "id": "60c9c654-d291-435d-971e-2e077ceaa9b7",
   "metadata": {},
   "outputs": [
    {
     "name": "stdout",
     "output_type": "stream",
     "text": [
      " this is my class1\n"
     ]
    }
   ],
   "source": [
    "obj_class3.test_class1()"
   ]
  },
  {
   "cell_type": "code",
   "execution_count": 71,
   "id": "d8a10fb7-b051-46f5-bb3d-63d04fb63537",
   "metadata": {},
   "outputs": [],
   "source": [
    "obj_class3 = class2()"
   ]
  },
  {
   "cell_type": "code",
   "execution_count": 73,
   "id": "56f9edf0-679f-4bae-8b15-7bc6f0583047",
   "metadata": {},
   "outputs": [
    {
     "name": "stdout",
     "output_type": "stream",
     "text": [
      " this is my class2\n"
     ]
    }
   ],
   "source": [
    "obj_class3.test_class2()"
   ]
  },
  {
   "cell_type": "code",
   "execution_count": 74,
   "id": "22b7f8fb-1b43-4f9d-8dab-1f87e25b6475",
   "metadata": {},
   "outputs": [
    {
     "name": "stdout",
     "output_type": "stream",
     "text": [
      " this is my class1\n"
     ]
    }
   ],
   "source": [
    "obj_class3.test_class1()"
   ]
  },
  {
   "cell_type": "code",
   "execution_count": null,
   "id": "9f816dc9-5763-4f23-8ba8-6e5aa65558fe",
   "metadata": {},
   "outputs": [],
   "source": []
  },
  {
   "cell_type": "code",
   "execution_count": null,
   "id": "2ed5e454-9eb9-44a1-9973-f7ba0a207a22",
   "metadata": {},
   "outputs": [],
   "source": []
  },
  {
   "cell_type": "code",
   "execution_count": null,
   "id": "827ebdde-8427-4dd7-ac9d-a0699eca9198",
   "metadata": {},
   "outputs": [],
   "source": []
  },
  {
   "cell_type": "code",
   "execution_count": null,
   "id": "d5bef69c-35e5-46c6-8e72-d3af0a49dccc",
   "metadata": {},
   "outputs": [],
   "source": []
  },
  {
   "cell_type": "code",
   "execution_count": null,
   "id": "c1507cdf-44df-46a4-b152-482d421799a0",
   "metadata": {},
   "outputs": [],
   "source": []
  },
  {
   "cell_type": "code",
   "execution_count": null,
   "id": "0cc1ba17-ea3b-4edd-9544-c265da612a0f",
   "metadata": {},
   "outputs": [],
   "source": []
  },
  {
   "cell_type": "code",
   "execution_count": null,
   "id": "f95881ca-1a0c-41eb-a54d-e52a7aee4ad0",
   "metadata": {},
   "outputs": [],
   "source": []
  },
  {
   "cell_type": "code",
   "execution_count": null,
   "id": "4a6eb55d-b72d-4475-b26e-1cc48ff02b4c",
   "metadata": {},
   "outputs": [],
   "source": []
  }
 ],
 "metadata": {
  "kernelspec": {
   "display_name": "Python 3 (ipykernel)",
   "language": "python",
   "name": "python3"
  },
  "language_info": {
   "codemirror_mode": {
    "name": "ipython",
    "version": 3
   },
   "file_extension": ".py",
   "mimetype": "text/x-python",
   "name": "python",
   "nbconvert_exporter": "python",
   "pygments_lexer": "ipython3",
   "version": "3.10.8"
  }
 },
 "nbformat": 4,
 "nbformat_minor": 5
}
