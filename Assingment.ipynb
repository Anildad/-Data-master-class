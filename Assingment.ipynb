{
 "cells": [
  {
   "cell_type": "markdown",
   "id": "3a3aa675-6715-46e8-a4c2-aa258a2046ab",
   "metadata": {},
   "source": [
    "## (1)The characteristic of tuple are\n"
   ]
  },
  {
   "cell_type": "code",
   "execution_count": null,
   "id": "a851a11d-4a26-4c73-ab04-ea349eb0d0d6",
   "metadata": {},
   "outputs": [],
   "source": [
    "**they are ordered\n",
    "**They ate immutable\n",
    "**they are containg duplecate items\n",
    "**the elemrnt can not be changed once it is assigned"
   ]
  },
  {
   "cell_type": "code",
   "execution_count": null,
   "id": "cd707fca-4249-4c61-a80f-db80776086d5",
   "metadata": {},
   "outputs": [],
   "source": []
  },
  {
   "cell_type": "code",
   "execution_count": 1,
   "id": "b2d5dfc7-bf64-4055-8646-c1beac04105b",
   "metadata": {},
   "outputs": [
    {
     "name": "stdout",
     "output_type": "stream",
     "text": [
      "()\n"
     ]
    }
   ],
   "source": [
    "t= ()\n",
    "print(t)"
   ]
  },
  {
   "cell_type": "code",
   "execution_count": 2,
   "id": "44809992-765b-458e-b1ea-c8ec2823bc78",
   "metadata": {},
   "outputs": [
    {
     "name": "stdout",
     "output_type": "stream",
     "text": [
      "(1, 2, 3, 4)\n"
     ]
    }
   ],
   "source": [
    "t = (1,2,3,4)\n",
    "print(t)"
   ]
  },
  {
   "cell_type": "code",
   "execution_count": 4,
   "id": "5c9e9649-c115-4bff-9574-574e64a2d957",
   "metadata": {},
   "outputs": [
    {
     "data": {
      "text/plain": [
       "tuple"
      ]
     },
     "execution_count": 4,
     "metadata": {},
     "output_type": "execute_result"
    }
   ],
   "source": [
    "t =(1,2,3,4,34.3,4+5j,\"subhu\",True)\n",
    "type(t)"
   ]
  },
  {
   "cell_type": "code",
   "execution_count": null,
   "id": "ea24815e-c901-4c8c-b80f-8b1feb341009",
   "metadata": {},
   "outputs": [],
   "source": [
    "## Tuple is immutable it can not changed"
   ]
  },
  {
   "cell_type": "code",
   "execution_count": 6,
   "id": "084fba61-f68f-45cf-9ba9-c31e1da6a49e",
   "metadata": {},
   "outputs": [
    {
     "data": {
      "text/plain": [
       "(1, 2, 3, 4, 34.3, (4+5j), 'subhu', True)"
      ]
     },
     "execution_count": 6,
     "metadata": {},
     "output_type": "execute_result"
    }
   ],
   "source": [
    "t"
   ]
  },
  {
   "cell_type": "code",
   "execution_count": 7,
   "id": "eadc3e7d-a533-4ecd-8cb6-7233b78fd28b",
   "metadata": {},
   "outputs": [
    {
     "ename": "TypeError",
     "evalue": "'tuple' object does not support item assignment",
     "output_type": "error",
     "traceback": [
      "\u001b[0;31m---------------------------------------------------------------------------\u001b[0m",
      "\u001b[0;31mTypeError\u001b[0m                                 Traceback (most recent call last)",
      "Cell \u001b[0;32mIn[7], line 1\u001b[0m\n\u001b[0;32m----> 1\u001b[0m \u001b[43mt\u001b[49m\u001b[43m[\u001b[49m\u001b[38;5;241;43m2\u001b[39;49m\u001b[43m]\u001b[49m\u001b[38;5;241m=\u001b[39m\u001b[38;5;241m20\u001b[39m\n",
      "\u001b[0;31mTypeError\u001b[0m: 'tuple' object does not support item assignment"
     ]
    }
   ],
   "source": [
    "t[2]=20"
   ]
  },
  {
   "cell_type": "code",
   "execution_count": 8,
   "id": "0811f14b-813e-4cb1-9bfd-6af117135e21",
   "metadata": {},
   "outputs": [
    {
     "ename": "TypeError",
     "evalue": "'tuple' object does not support item assignment",
     "output_type": "error",
     "traceback": [
      "\u001b[0;31m---------------------------------------------------------------------------\u001b[0m",
      "\u001b[0;31mTypeError\u001b[0m                                 Traceback (most recent call last)",
      "Cell \u001b[0;32mIn[8], line 1\u001b[0m\n\u001b[0;32m----> 1\u001b[0m \u001b[43mt\u001b[49m\u001b[43m[\u001b[49m\u001b[38;5;241;43m0\u001b[39;49m\u001b[43m]\u001b[49m\u001b[38;5;241m=\u001b[39m \u001b[38;5;241m34\u001b[39m\n",
      "\u001b[0;31mTypeError\u001b[0m: 'tuple' object does not support item assignment"
     ]
    }
   ],
   "source": [
    "t[0]= 34"
   ]
  },
  {
   "cell_type": "markdown",
   "id": "680afcd5-a9eb-4a78-83d8-441370d2e107",
   "metadata": {},
   "source": [
    "## (2)there are two tuple methods , they are count and index"
   ]
  },
  {
   "cell_type": "code",
   "execution_count": null,
   "id": "b2920b96-94db-459b-8965-2d81ca3706df",
   "metadata": {},
   "outputs": [],
   "source": [
    "## count here is to given items are present in tuple"
   ]
  },
  {
   "cell_type": "code",
   "execution_count": 10,
   "id": "4eec49db-05bd-4548-893a-2c169325a993",
   "metadata": {},
   "outputs": [
    {
     "data": {
      "text/plain": [
       "(1, 2, 3, 4, 34.3, (4+5j), 'subhu', True)"
      ]
     },
     "execution_count": 10,
     "metadata": {},
     "output_type": "execute_result"
    }
   ],
   "source": [
    "t"
   ]
  },
  {
   "cell_type": "code",
   "execution_count": 11,
   "id": "faee1cf5-cd21-4e32-967d-4caff48212c4",
   "metadata": {},
   "outputs": [
    {
     "data": {
      "text/plain": [
       "2"
      ]
     },
     "execution_count": 11,
     "metadata": {},
     "output_type": "execute_result"
    }
   ],
   "source": [
    "t.count(1)"
   ]
  },
  {
   "cell_type": "code",
   "execution_count": 12,
   "id": "53d24429-eeb8-47c5-8f3d-8506160a3184",
   "metadata": {},
   "outputs": [
    {
     "data": {
      "text/plain": [
       "0"
      ]
     },
     "execution_count": 12,
     "metadata": {},
     "output_type": "execute_result"
    }
   ],
   "source": [
    "t.count(\"abc\")"
   ]
  },
  {
   "cell_type": "code",
   "execution_count": 13,
   "id": "c7baa11d-9402-422f-85e1-d21ca3c8f1af",
   "metadata": {},
   "outputs": [
    {
     "data": {
      "text/plain": [
       "1"
      ]
     },
     "execution_count": 13,
     "metadata": {},
     "output_type": "execute_result"
    }
   ],
   "source": [
    "t.count(\"subhu\")"
   ]
  },
  {
   "cell_type": "markdown",
   "id": "1a26f2ab-b0bd-49a6-b0d2-22380156c1ff",
   "metadata": {},
   "source": [
    "## index"
   ]
  },
  {
   "cell_type": "code",
   "execution_count": null,
   "id": "5cb385e0-e71d-41e8-98f7-4613917cbb2b",
   "metadata": {},
   "outputs": [],
   "source": [
    "## the check index inthe tuple line"
   ]
  },
  {
   "cell_type": "code",
   "execution_count": 14,
   "id": "170b6753-4eb2-4a8c-9552-34a486f29c0e",
   "metadata": {},
   "outputs": [
    {
     "data": {
      "text/plain": [
       "(1, 2, 3, 4, 34.3, (4+5j), 'subhu', True)"
      ]
     },
     "execution_count": 14,
     "metadata": {},
     "output_type": "execute_result"
    }
   ],
   "source": [
    "t"
   ]
  },
  {
   "cell_type": "code",
   "execution_count": 15,
   "id": "3fad0796-ecb0-4b9c-8925-49ea768e2cb6",
   "metadata": {},
   "outputs": [
    {
     "data": {
      "text/plain": [
       "0"
      ]
     },
     "execution_count": 15,
     "metadata": {},
     "output_type": "execute_result"
    }
   ],
   "source": [
    "t.index(1)"
   ]
  },
  {
   "cell_type": "code",
   "execution_count": 16,
   "id": "cca1781c-4e9a-4d27-a4f6-a5b3c75c2b59",
   "metadata": {},
   "outputs": [
    {
     "data": {
      "text/plain": [
       "3"
      ]
     },
     "execution_count": 16,
     "metadata": {},
     "output_type": "execute_result"
    }
   ],
   "source": [
    "t.index(4)"
   ]
  },
  {
   "cell_type": "markdown",
   "id": "c066d43d-1cca-4d6b-8914-d51fb4c381a9",
   "metadata": {},
   "source": [
    "## Reason for having only two built-in methods in tuples compared to lists:"
   ]
  },
  {
   "cell_type": "code",
   "execution_count": null,
   "id": "fd1506a9-af9d-4007-9200-1c9131f4cb52",
   "metadata": {},
   "outputs": [],
   "source": [
    "**Tuples and lists are collections of items,but tuples are immutable,means cannot be changed nor created element.\n",
    "**Lists are mmutable and can be mmutable allows to change the elements"
   ]
  },
  {
   "cell_type": "code",
   "execution_count": null,
   "id": "ad9c74be-d73f-4900-bf02-035652168847",
   "metadata": {},
   "outputs": [],
   "source": [
    "**Tuples are immutable,and methods cannot modify by(eg:..append,extend,pop,remove)"
   ]
  },
  {
   "cell_type": "code",
   "execution_count": null,
   "id": "c870892f-b771-4028-b2d6-833d45423d87",
   "metadata": {},
   "outputs": [],
   "source": [
    "**Lists are mmutable and have wide range of modification and manipulaton"
   ]
  },
  {
   "cell_type": "code",
   "execution_count": null,
   "id": "71452349-0585-45ee-bda7-15f873afe7dd",
   "metadata": {},
   "outputs": [],
   "source": [
    "**Lists in python have wide more extensive set of built-in methods compared to tuples"
   ]
  },
  {
   "cell_type": "code",
   "execution_count": null,
   "id": "e0aa23a7-a6e3-49f5-ae43-dfab3436f245",
   "metadata": {},
   "outputs": [],
   "source": [
    "**Lists has more methods in lists makes them more suitable for data structures and change can be made."
   ]
  },
  {
   "cell_type": "code",
   "execution_count": null,
   "id": "17362679-b29f-4473-90ac-17ec00a4a663",
   "metadata": {},
   "outputs": [],
   "source": [
    "** tuples on the hand are used in situation where you want to ensure data integrity and immutability."
   ]
  },
  {
   "cell_type": "code",
   "execution_count": null,
   "id": "3d10f0f2-41b6-40e0-8aad-a712b18f4083",
   "metadata": {},
   "outputs": [],
   "source": []
  },
  {
   "cell_type": "markdown",
   "id": "ad6775ac-acdb-4c6e-b99b-cdca4e6902d6",
   "metadata": {},
   "source": [
    "## (3) "
   ]
  },
  {
   "cell_type": "code",
   "execution_count": null,
   "id": "6f5b6fdc-46f7-4089-81c2-6b2644a77725",
   "metadata": {},
   "outputs": [],
   "source": [
    "In Python, the collection data type that does not allow duplicate items is the set. Sets are unordered collections of unique elements. When you try to add a duplicate item to a set, it will be ignored, and the set will remain unchanged.\n"
   ]
  },
  {
   "cell_type": "code",
   "execution_count": 22,
   "id": "5d1c6b7d-6419-4a82-94b2-d1cd3f773a77",
   "metadata": {},
   "outputs": [
    {
     "data": {
      "text/plain": [
       "{1, 2, 3, 4}"
      ]
     },
     "execution_count": 22,
     "metadata": {},
     "output_type": "execute_result"
    }
   ],
   "source": [
    "List = [1, 1, 1, 2, 1, 3, 1, 4, 2, 1, 2, 2, 2, 3, 2, 4, 3, 1, 3, 2, 3, 3, 3, 4, 4, 1, 4, 2, 4, 3, 4, 4]\n",
    "set(List)"
   ]
  },
  {
   "cell_type": "markdown",
   "id": "fbd81ea2-93fd-422c-b165-53a37fd4b58e",
   "metadata": {},
   "source": [
    "## 4"
   ]
  },
  {
   "cell_type": "code",
   "execution_count": null,
   "id": "632a0c90-3e4b-4268-afd0-a5db7d4a18ed",
   "metadata": {},
   "outputs": [],
   "source": [
    "union() method:\n",
    "The union() method returns a new set that contains all the unique elements from both sets, without modifying the original sets.\n",
    "It does not change the sets it is called on but creates a new set with the combined elements of both sets."
   ]
  },
  {
   "cell_type": "code",
   "execution_count": 1,
   "id": "5aa93936-86b6-4daa-bfda-3574cec3dc3e",
   "metadata": {},
   "outputs": [
    {
     "name": "stdout",
     "output_type": "stream",
     "text": [
      "{1, 2, 3, 4, 5}\n"
     ]
    }
   ],
   "source": [
    "set1 = {1, 2, 3}\n",
    "set2 = {3, 4, 5}\n",
    "\n",
    "res = set1.union(set2)\n",
    "print(res)"
   ]
  },
  {
   "cell_type": "code",
   "execution_count": null,
   "id": "9278b643-63b4-4e10-8f4c-925d73335570",
   "metadata": {},
   "outputs": [],
   "source": []
  },
  {
   "cell_type": "code",
   "execution_count": 2,
   "id": "f5c720bd-fb04-4aa9-bc73-fc205393b833",
   "metadata": {},
   "outputs": [
    {
     "name": "stdout",
     "output_type": "stream",
     "text": [
      "{'e', 'd', 'c', 'b', 'a'}\n"
     ]
    }
   ],
   "source": [
    "set1 = {\"a\",\"b\",\"c\"}\n",
    "set2 = {\"a\",\"d\",\"e\"}\n",
    "set3 = set1.union(set2)\n",
    "print(set3)"
   ]
  },
  {
   "cell_type": "code",
   "execution_count": null,
   "id": "30d01fae-eb12-4305-9ad0-7c6ed82d7448",
   "metadata": {},
   "outputs": [],
   "source": []
  },
  {
   "cell_type": "code",
   "execution_count": 3,
   "id": "0468154e-7a42-4cb8-824f-c9ad76555b02",
   "metadata": {},
   "outputs": [
    {
     "name": "stdout",
     "output_type": "stream",
     "text": [
      "{3, 4, 5, 'c', 'b', 'a'}\n"
     ]
    }
   ],
   "source": [
    "set1 = {\"a\",\"b\",\"c\"}\n",
    "set2 = {3, 4, 5}\n",
    "\n",
    "res = set1.union(set2)\n",
    "print(res)"
   ]
  },
  {
   "cell_type": "code",
   "execution_count": null,
   "id": "38d92129-9a91-4738-9ad4-b5e91de3c006",
   "metadata": {},
   "outputs": [],
   "source": []
  },
  {
   "cell_type": "markdown",
   "id": "9753c20c-e988-43f3-a783-ebba7b1e9e8d",
   "metadata": {
    "tags": []
   },
   "source": [
    "# update"
   ]
  },
  {
   "cell_type": "code",
   "execution_count": null,
   "id": "f6075390-d609-481d-84cc-9f2e49cc43e8",
   "metadata": {},
   "outputs": [],
   "source": [
    "used to add elements from another iterable (e.g., set, list, tuple) to the original set. It modifies the original set by adding the elements from the specified iterable.\n",
    "The elements that are already present in the original set will not be duplicated; only new elements are added."
   ]
  },
  {
   "cell_type": "code",
   "execution_count": 4,
   "id": "a3be2c80-0ab2-4909-902c-3b6b6aead519",
   "metadata": {},
   "outputs": [
    {
     "name": "stdout",
     "output_type": "stream",
     "text": [
      "Set 1: {1, 2, 3}\n"
     ]
    }
   ],
   "source": [
    "set1 = {1, 2, 3}\n",
    "set2 = {3, 4, 5}\n",
    "print(\"Set 1:\", set1)"
   ]
  },
  {
   "cell_type": "code",
   "execution_count": 5,
   "id": "74001091-1581-4ffe-93e0-07219e413fd1",
   "metadata": {},
   "outputs": [
    {
     "name": "stdout",
     "output_type": "stream",
     "text": [
      "Set 1: {1, 2, 3}\n"
     ]
    }
   ],
   "source": [
    "set1 = {1, 2, 3}\n",
    "set2 = {3, 4, 5}\n",
    "print(\"Set 1:\", set1)"
   ]
  },
  {
   "cell_type": "code",
   "execution_count": 6,
   "id": "4ef55bc5-9e44-49a6-bab6-89ffece14a7a",
   "metadata": {},
   "outputs": [
    {
     "name": "stdout",
     "output_type": "stream",
     "text": [
      "{'kenny', 'ram', 'syam', 'jiya', 'jenny', 'akash'}\n"
     ]
    }
   ],
   "source": [
    "set1 = {'ram', 'syam','kenny'}\n",
    "set2 = {'jenny','jiya','akash'}\n",
    "set3 = {'anu','ram'}\n",
    "set1.update(set2)\n",
    "print(set1)"
   ]
  },
  {
   "cell_type": "code",
   "execution_count": null,
   "id": "8e376570-58dc-4af1-8d52-d1ead3bed347",
   "metadata": {},
   "outputs": [],
   "source": []
  },
  {
   "cell_type": "code",
   "execution_count": 7,
   "id": "e562735d-391c-4d86-be02-8b3d8efdbff0",
   "metadata": {},
   "outputs": [
    {
     "name": "stdout",
     "output_type": "stream",
     "text": [
      "{'menny', 'mohan', 'ram', 'syam', 'vava'}\n"
     ]
    }
   ],
   "source": [
    "set1 = {'ram', 'syam','menny'}\n",
    "set2 = {'jenny','jiya','akash'}\n",
    "set3 = {'anu','ram'}\n",
    "set1.update(['vava','mohan'])\n",
    "print(set1)"
   ]
  },
  {
   "cell_type": "code",
   "execution_count": null,
   "id": "8cc8e068-26f8-4398-a197-4da1e2bd67e4",
   "metadata": {},
   "outputs": [],
   "source": []
  },
  {
   "cell_type": "code",
   "execution_count": 8,
   "id": "161f506a-277a-42bd-9f8d-9ee5b24ae5a7",
   "metadata": {},
   "outputs": [
    {
     "name": "stdout",
     "output_type": "stream",
     "text": [
      "{'ram', 'anu', 'mohan', 'vkava'}\n"
     ]
    }
   ],
   "source": [
    "set1 = {'ram', 'syam','menny'}\n",
    "set2 = {'jenny','jiya','akash'}\n",
    "set3 = {'anu','ram'}\n",
    "set3.update(['vkava','mohan'])\n",
    "print(set3)"
   ]
  },
  {
   "cell_type": "markdown",
   "id": "7414641f-47a2-427f-94f9-c45315bb8f28",
   "metadata": {},
   "source": [
    "## DICTIONARY"
   ]
  },
  {
   "cell_type": "code",
   "execution_count": null,
   "id": "790f1fab-3021-42d0-8c15-4b2401f65a23",
   "metadata": {},
   "outputs": [],
   "source": [
    "## Dictionary is a data structure that stores a collection of key-value pairs"
   ]
  },
  {
   "cell_type": "code",
   "execution_count": null,
   "id": "3ff9bfa7-1403-4fd2-a864-33f9ea510d66",
   "metadata": {},
   "outputs": [],
   "source": [
    "Each key in the dictionary maps to a corresponding value, allowing you to retrieve the value associated with a particular key effectively"
   ]
  },
  {
   "cell_type": "code",
   "execution_count": null,
   "id": "e30dd48d-485f-43e3-a1f5-561b5b0f9650",
   "metadata": {},
   "outputs": [],
   "source": [
    "Dictionaries are also known as associative arrays or hash maps in other programming languages."
   ]
  },
  {
   "cell_type": "code",
   "execution_count": null,
   "id": "4219db41-9c30-470a-97b7-f686cd4f0f59",
   "metadata": {},
   "outputs": [],
   "source": [
    " Keys must be unique and immutable (e.g., strings, numbers, or tuples), while values can be of any data type (e.g., strings, numbers, lists, other dictionaries, etc.)."
   ]
  },
  {
   "cell_type": "code",
   "execution_count": null,
   "id": "bd4aacc0-0028-485f-89be-5e63495cd3e1",
   "metadata": {},
   "outputs": [],
   "source": []
  },
  {
   "cell_type": "code",
   "execution_count": 9,
   "id": "167e40a6-12dc-4f1f-aeca-9eb85de779db",
   "metadata": {},
   "outputs": [
    {
     "name": "stdout",
     "output_type": "stream",
     "text": [
      "Name: John Doe\n"
     ]
    }
   ],
   "source": [
    "dict = {\n",
    "    \"name\": \"John Doe\",\n",
    "    \"age\": 30,\n",
    "    \"occupation\": \"Software Engineer\",\n",
    "    \"email\": \"john.doe@example.com\"}\n",
    "print(\"Name:\", dict[\"name\"]) "
   ]
  },
  {
   "cell_type": "code",
   "execution_count": 10,
   "id": "0db8ec5d-5c3b-4e03-88e4-92a46a4b431f",
   "metadata": {},
   "outputs": [
    {
     "name": "stdout",
     "output_type": "stream",
     "text": [
      "{'name': 'John Doe', 'age': 30, 'occupation': 'Software Engineer', 'email': 'john.doe@example.com'}\n"
     ]
    }
   ],
   "source": [
    "print(dict)"
   ]
  },
  {
   "cell_type": "code",
   "execution_count": 11,
   "id": "65484102-4ef1-4363-9b6e-9b3604b3f71b",
   "metadata": {},
   "outputs": [
    {
     "name": "stdout",
     "output_type": "stream",
     "text": [
      "age John Doe\n"
     ]
    }
   ],
   "source": [
    "print(\"age\" , dict[\"name\"])"
   ]
  },
  {
   "cell_type": "code",
   "execution_count": 12,
   "id": "de1d2e83-066a-4545-9510-776df6558be0",
   "metadata": {},
   "outputs": [
    {
     "name": "stdout",
     "output_type": "stream",
     "text": [
      "occupation Software Engineer\n"
     ]
    }
   ],
   "source": [
    "print(\"occupation\" ,dict[\"occupation\"])"
   ]
  },
  {
   "cell_type": "code",
   "execution_count": null,
   "id": "a5e5ea63-614f-41ff-b5d5-363ed3f1f912",
   "metadata": {},
   "outputs": [],
   "source": []
  },
  {
   "cell_type": "markdown",
   "id": "09b03743-5f21-4438-99dc-0bbd5f6a2d6f",
   "metadata": {},
   "source": [
    "##5"
   ]
  },
  {
   "cell_type": "code",
   "execution_count": null,
   "id": "a60f9e8e-440d-4d40-865c-b4dd1c370020",
   "metadata": {},
   "outputs": [],
   "source": [
    "## nested dictionary"
   ]
  },
  {
   "cell_type": "code",
   "execution_count": null,
   "id": "d7e19a30-24be-4fa3-ad57-0723c9b199cd",
   "metadata": {},
   "outputs": [],
   "source": [
    " dict= {'batch_name': ['data science masters', 'web dev', 'JDS'},\n",
    " 'start_date': {28, 14, 21},\n",
    " 'mentor_name': {'anurag',\n",
    "  'hayder',\n",
    "  'hitesh',\n",
    "  'krish naik',}\n",
    "    print{dict}   "
   ]
  },
  {
   "cell_type": "code",
   "execution_count": null,
   "id": "db4d47be-2a8e-4757-82b4-f55e23948385",
   "metadata": {},
   "outputs": [],
   "source": []
  }
 ],
 "metadata": {
  "kernelspec": {
   "display_name": "Python 3 (ipykernel)",
   "language": "python",
   "name": "python3"
  },
  "language_info": {
   "codemirror_mode": {
    "name": "ipython",
    "version": 3
   },
   "file_extension": ".py",
   "mimetype": "text/x-python",
   "name": "python",
   "nbconvert_exporter": "python",
   "pygments_lexer": "ipython3",
   "version": "3.10.8"
  }
 },
 "nbformat": 4,
 "nbformat_minor": 5
}
