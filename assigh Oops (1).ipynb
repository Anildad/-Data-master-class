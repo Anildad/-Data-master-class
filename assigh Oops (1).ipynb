{
 "cells": [
  {
   "cell_type": "code",
   "execution_count": null,
   "id": "7240f05c-9292-4feb-becd-055d4dd91ce8",
   "metadata": {},
   "outputs": [],
   "source": [
    "# 01"
   ]
  },
  {
   "cell_type": "code",
   "execution_count": null,
   "id": "c6c49506-a388-4fcc-9dd6-8030314ddf42",
   "metadata": {},
   "outputs": [],
   "source": [
    "In object-oriented programming (OOP), a class is a blueprint or template for creating objects, which are instances of the class. It defines the properties and behaviors that the objects of that class will have. An object, on the other hand, represents a specific instance of a class. It is a concrete entity with its own state (data) and behavior (functions or methods).\n",
    "\n",
    "\n",
    "Example: Let's consider a class called \"Car.\" The class \"Car\" would define the common properties and behaviors that all cars possess, such as color, model, and the ability to drive. An object of the \"Car\" class could represent a specific car, like a red Ford Mustang, with its unique color, model, and the ability to perform actions like accelerating and braking."
   ]
  },
  {
   "cell_type": "code",
   "execution_count": null,
   "id": "eeccb128-f46f-4ca3-8e5c-9f31fdfb7d27",
   "metadata": {},
   "outputs": [],
   "source": []
  },
  {
   "cell_type": "code",
   "execution_count": null,
   "id": "fb2ed0ec-0808-4a3f-8473-e7f9bc3fe1e3",
   "metadata": {},
   "outputs": [],
   "source": []
  },
  {
   "cell_type": "code",
   "execution_count": null,
   "id": "6007833a-682a-4e9b-a7da-afbe3a60da04",
   "metadata": {},
   "outputs": [],
   "source": [
    "# 02"
   ]
  },
  {
   "cell_type": "code",
   "execution_count": null,
   "id": "2e5e32a1-1c7b-4d55-83d3-a29d66f2d3ed",
   "metadata": {},
   "outputs": [],
   "source": [
    "The four pillars of object-oriented programming (OOP) are:"
   ]
  },
  {
   "cell_type": "code",
   "execution_count": null,
   "id": "82fa6e8c-5422-4977-b6a5-7e7d43b1928e",
   "metadata": {},
   "outputs": [],
   "source": [
    "Encapsulation: It is the bundling of data and methods together inside a class, hiding the internal details and providing a public interface for interacting with the object. It helps in achieving data protection and abstraction."
   ]
  },
  {
   "cell_type": "code",
   "execution_count": null,
   "id": "233d82c5-f44f-481c-bf0a-1c96bf5b9d52",
   "metadata": {},
   "outputs": [],
   "source": [
    "Inheritance: It allows a class to inherit properties and behaviors from another class, promoting code reuse and establishing a hierarchy of classes. It enables the creation of subclasses that inherit and extend the characteristics of a superclass."
   ]
  },
  {
   "cell_type": "code",
   "execution_count": null,
   "id": "b2ac7d27-3c5d-4652-bdd9-754a72743407",
   "metadata": {},
   "outputs": [],
   "source": [
    "Polymorphism: It refers to the ability of objects of different classes to respond differently to the same method. It allows objects to be treated as instances of their own class or instances of their superclass."
   ]
  },
  {
   "cell_type": "code",
   "execution_count": null,
   "id": "4b8bf576-89c8-47cb-9ff7-dcc20713d3ce",
   "metadata": {},
   "outputs": [],
   "source": [
    "Abstraction: It involves focusing on the essential features of an object and hiding the unnecessary implementation details. Abstraction simplifies complex systems by providing a clear interface for users to interact with."
   ]
  },
  {
   "cell_type": "code",
   "execution_count": null,
   "id": "58fc3303-3628-4fd0-99f6-a6fbfe256ac3",
   "metadata": {},
   "outputs": [],
   "source": []
  },
  {
   "cell_type": "code",
   "execution_count": null,
   "id": "5514d595-dc46-497f-acd9-883f6c945d78",
   "metadata": {},
   "outputs": [],
   "source": [
    "# 03"
   ]
  },
  {
   "cell_type": "code",
   "execution_count": null,
   "id": "0574a5cc-9eb7-43af-824a-9557bd3a49be",
   "metadata": {},
   "outputs": [],
   "source": [
    "The init() function, also known as the constructor, is used in Python classes to initialize the objects created from the class. It is automatically called when a new object is created and allows the class to set its initial state and define any necessary instance variables."
   ]
  },
  {
   "cell_type": "code",
   "execution_count": null,
   "id": "fb97e207-96a0-4126-8304-40e6a4e74f7b",
   "metadata": {},
   "outputs": [],
   "source": []
  },
  {
   "cell_type": "code",
   "execution_count": null,
   "id": "cc6960cd-b11a-400a-a926-c49bc15faa0b",
   "metadata": {},
   "outputs": [],
   "source": [
    "class Person:\n",
    "    def __init__(self, name, age):\n",
    "        self.name = name\n",
    "        self.age = age\n",
    "\n",
    "person1 = Person(\"John\", 25)\n",
    "print(person1.name)  # Output: \"John\"\n",
    "print(person1.age)   # Output: 25"
   ]
  },
  {
   "cell_type": "code",
   "execution_count": null,
   "id": "407e72ce-f1bc-44f9-a01a-d228756b1169",
   "metadata": {},
   "outputs": [],
   "source": []
  },
  {
   "cell_type": "code",
   "execution_count": null,
   "id": "35799c9c-27ff-4a73-82d0-2a54c9dfaee5",
   "metadata": {},
   "outputs": [],
   "source": [
    "this example, the init() function is used to initialize the \"person1\" object with a name and age. The function assigns the provided values to the instance variables \"name\" and \"age\" for the object."
   ]
  },
  {
   "cell_type": "code",
   "execution_count": null,
   "id": "64092562-827c-4c90-831f-e15fc3711bb7",
   "metadata": {},
   "outputs": [],
   "source": []
  },
  {
   "cell_type": "code",
   "execution_count": null,
   "id": "5a61ad8c-8ec9-46b1-b4d1-7feb7c0afdeb",
   "metadata": {},
   "outputs": [],
   "source": []
  },
  {
   "cell_type": "code",
   "execution_count": null,
   "id": "d7f8468b-53d0-4870-ba35-7c35776b555a",
   "metadata": {},
   "outputs": [],
   "source": [
    "# 04"
   ]
  },
  {
   "cell_type": "code",
   "execution_count": null,
   "id": "96af7747-d366-475d-86c4-3644fcbf4513",
   "metadata": {},
   "outputs": [],
   "source": [
    "In object-oriented programming (OOP), \"self\" is used as a reference to the instance of the class. It allows accessing the instance variables and methods within the class. When calling a method on an object, \"self\" is automatically passed as the first argument."
   ]
  },
  {
   "cell_type": "code",
   "execution_count": null,
   "id": "2f4eb605-58fd-4b6e-8019-70e2ce650a0b",
   "metadata": {},
   "outputs": [],
   "source": []
  },
  {
   "cell_type": "code",
   "execution_count": null,
   "id": "271cc2a7-bcaf-4e38-b317-33605385ec8e",
   "metadata": {},
   "outputs": [],
   "source": [
    "class Person:\n",
    "    def __init__(self, name):\n",
    "        self.name = name\n",
    "\n",
    "    def greet(self):\n",
    "        print(\"Hello, my name is\", self.name)\n",
    "\n",
    "person1 = Person(\"John\")\n",
    "person1.greet()  # Output: \"Hello, my name is John\""
   ]
  },
  {
   "cell_type": "code",
   "execution_count": null,
   "id": "6eda1a80-3d52-4ee5-ac09-b5e554d2baa9",
   "metadata": {},
   "outputs": [],
   "source": []
  },
  {
   "cell_type": "code",
   "execution_count": null,
   "id": "f8d21721-6844-4c0c-bdaa-309db7f14aae",
   "metadata": {},
   "outputs": [],
   "source": [
    "this example, \"self\" is used inside the class to refer to the instance of the class itself. It allows accessing the instance variable \"name\" in the \"greet()\" method using \"self.name\"."
   ]
  },
  {
   "cell_type": "code",
   "execution_count": null,
   "id": "2c232884-2dca-458b-895a-55e31cf24b78",
   "metadata": {},
   "outputs": [],
   "source": []
  },
  {
   "cell_type": "code",
   "execution_count": null,
   "id": "3f2d6d2c-b9e8-4932-acd3-0e0533cee327",
   "metadata": {},
   "outputs": [],
   "source": [
    "#05"
   ]
  },
  {
   "cell_type": "code",
   "execution_count": null,
   "id": "951b25d5-0f0b-4508-9628-921fef8ba74d",
   "metadata": {},
   "outputs": [],
   "source": []
  },
  {
   "cell_type": "code",
   "execution_count": null,
   "id": "e2ca78e7-3b1e-42c0-9c61-e2c455fcba68",
   "metadata": {},
   "outputs": [],
   "source": [
    "Inheritance is a concept in object-oriented programming (OOP) that allows a class to inherit properties and behaviors from another class. The class that provides the properties and behaviors is called the superclass or base class, and the class that inherits them is called the subclass or derived class."
   ]
  },
  {
   "cell_type": "code",
   "execution_count": null,
   "id": "9d77b8ac-b33a-4821-82b9-b77cb7be4bec",
   "metadata": {},
   "outputs": [],
   "source": [
    "Types of Inheritance:"
   ]
  },
  {
   "cell_type": "code",
   "execution_count": null,
   "id": "1240c739-fbae-4152-b37b-2cbb9e7530d2",
   "metadata": {},
   "outputs": [],
   "source": [
    "1..Single Inheritance: It involves a subclass inheriting from a single superclass"
   ]
  },
  {
   "cell_type": "code",
   "execution_count": null,
   "id": "76504d97-b80c-4742-af4b-dbc8623a2695",
   "metadata": {},
   "outputs": [],
   "source": []
  },
  {
   "cell_type": "code",
   "execution_count": null,
   "id": "013bd1ef-60b7-41ed-bab2-b18d86b30baf",
   "metadata": {},
   "outputs": [],
   "source": [
    "class Animal:\n",
    "    def eat(self):\n",
    "        print(\"Eating...\")\n",
    "\n",
    "class Dog(Animal):\n",
    "    def bark(self):\n",
    "        print(\"Barking...\")\n",
    "\n",
    "dog = Dog()\n",
    "dog.eat()   # Output: \"Eating...\"\n",
    "dog.bark()  # Output: \"Barking...\""
   ]
  },
  {
   "cell_type": "code",
   "execution_count": null,
   "id": "bd297b52-0166-452d-bb9a-626a9c00e74c",
   "metadata": {},
   "outputs": [],
   "source": []
  },
  {
   "cell_type": "code",
   "execution_count": null,
   "id": "99ccaac0-a029-44fa-b90f-c1f126b5c36c",
   "metadata": {},
   "outputs": [],
   "source": [
    "2. Multiple Inheritance: It involves a subclass inheriting from multiple superclasses."
   ]
  },
  {
   "cell_type": "code",
   "execution_count": null,
   "id": "ac843288-799c-422d-ada7-cc3f6ccd09a4",
   "metadata": {},
   "outputs": [],
   "source": [
    "class Bird:\n",
    "    def fly(self):\n",
    "        print(\"Flying...\")\n",
    "\n",
    "class Mammal:\n",
    "    def walk(self):\n",
    "        print(\"Walking...\")\n",
    "\n",
    "class Bat(Bird, Mammal):\n",
    "    pass\n",
    "\n",
    "bat = Bat()\n",
    "bat.fly()   # Output: \"Flying...\"\n",
    "bat.walk()  # Output: \"Walking...\""
   ]
  },
  {
   "cell_type": "code",
   "execution_count": null,
   "id": "ef2f795f-d290-4e2d-8bf5-f99022f4991c",
   "metadata": {},
   "outputs": [],
   "source": []
  },
  {
   "cell_type": "code",
   "execution_count": null,
   "id": "a221d642-5c01-41d1-babc-32ceb469c935",
   "metadata": {},
   "outputs": [],
   "source": [
    "this example, the class \"Bat\" inherits the \"fly()\" method from the superclass \"Bird\" and the \"walk()\" method from the superclass \"Mammal,\" representing multiple inheritance."
   ]
  },
  {
   "cell_type": "code",
   "execution_count": null,
   "id": "bd6c2589-572b-4572-bc0b-4a7f2fa746f1",
   "metadata": {},
   "outputs": [],
   "source": []
  },
  {
   "cell_type": "code",
   "execution_count": null,
   "id": "a2baf1f7-f674-43c7-9241-7a95bbce54f6",
   "metadata": {},
   "outputs": [],
   "source": [
    "3..Multilevel Inheritance: It involves a subclass inheriting from another subclass, forming a hierarchy of classes."
   ]
  },
  {
   "cell_type": "code",
   "execution_count": null,
   "id": "f13b94a2-0246-4e00-aa8f-8c2feb8d3287",
   "metadata": {},
   "outputs": [],
   "source": []
  },
  {
   "cell_type": "code",
   "execution_count": null,
   "id": "5bb8f289-09ec-4960-bca1-feab50339032",
   "metadata": {},
   "outputs": [],
   "source": [
    "class Animal:\n",
    "    def eat(self):\n",
    "        print(\"Eating...\")\n",
    "\n",
    "class Dog(Animal):\n",
    "    def bark(self):\n",
    "        print(\"Barking...\")\n",
    "\n",
    "class Bulldog(Dog):\n",
    "    def guard(self):\n",
    "        print(\"Guarding...\")\n",
    "\n",
    "bulldog = Bulldog()\n",
    "bulldog.eat()    # Output: \"Eating...\"\n",
    "bulldog.bark()   # Output: \"Barking...\"\n",
    "bulldog.guard()  # Output: \"Guarding...\""
   ]
  },
  {
   "cell_type": "code",
   "execution_count": null,
   "id": "9428af4c-3113-4ed1-a446-f519bf312f59",
   "metadata": {},
   "outputs": [],
   "source": []
  },
  {
   "cell_type": "code",
   "execution_count": null,
   "id": "71cb819f-4731-4312-b652-b9213116ef62",
   "metadata": {},
   "outputs": [],
   "source": [
    "this example, the class \"Bulldog\" inherits the \"eat()\" method from its superclass \"Dog,\" which itself inherits the \"eat()\" method from the superclass \"Animal,\" representing multilevel inheritance."
   ]
  },
  {
   "cell_type": "code",
   "execution_count": null,
   "id": "b8fad6ad-8f98-430d-9e63-fe1a62b46b46",
   "metadata": {},
   "outputs": [],
   "source": [
    "These examples demonstrate different types of inheritance in Python and how classes can inherit properties and behaviors from their superclasses."
   ]
  },
  {
   "cell_type": "code",
   "execution_count": null,
   "id": "4971b8bb-8015-4c42-9035-a9568eb4245f",
   "metadata": {},
   "outputs": [],
   "source": []
  },
  {
   "cell_type": "code",
   "execution_count": null,
   "id": "21be6eab-f39f-43b9-8058-a3e49f2c32a6",
   "metadata": {},
   "outputs": [],
   "source": []
  },
  {
   "cell_type": "code",
   "execution_count": null,
   "id": "aec30186-9f88-41ca-a20a-aa6f0a7425de",
   "metadata": {},
   "outputs": [],
   "source": []
  }
 ],
 "metadata": {
  "kernelspec": {
   "display_name": "Python 3 (ipykernel)",
   "language": "python",
   "name": "python3"
  },
  "language_info": {
   "codemirror_mode": {
    "name": "ipython",
    "version": 3
   },
   "file_extension": ".py",
   "mimetype": "text/x-python",
   "name": "python",
   "nbconvert_exporter": "python",
   "pygments_lexer": "ipython3",
   "version": "3.10.8"
  }
 },
 "nbformat": 4,
 "nbformat_minor": 5
}
