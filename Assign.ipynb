{
 "cells": [
  {
   "cell_type": "markdown",
   "id": "1dce8452-ed2c-4f7b-9317-233b9d51e20d",
   "metadata": {},
   "source": [
    "## Q4. Explain the difference between the union() and update() methods for a set. Give an example of\n",
    "each method."
   ]
  },
  {
   "cell_type": "code",
   "execution_count": null,
   "id": "6c493009-9568-45b6-8f28-90d6a6fea4f6",
   "metadata": {},
   "outputs": [],
   "source": [
    "Union() is used to create a new set that contains all the unique elements from both sets. It does not modify the original sets; instead, it returns a new set containing the combined elements."
   ]
  },
  {
   "cell_type": "code",
   "execution_count": 1,
   "id": "3af22c7d-3fae-403c-83ee-92bb3c9d92a2",
   "metadata": {},
   "outputs": [
    {
     "name": "stdout",
     "output_type": "stream",
     "text": [
      "{1, 2, 3, 4, 5}\n"
     ]
    }
   ],
   "source": [
    "set1 = {1, 2, 3}\n",
    "set2 = {3, 4, 5}\n",
    "\n",
    "res = set1.union(set2)\n",
    "print(res)"
   ]
  },
  {
   "cell_type": "code",
   "execution_count": 7,
   "id": "06150c6c-e1bd-445b-8407-60560d13c216",
   "metadata": {},
   "outputs": [
    {
     "name": "stdout",
     "output_type": "stream",
     "text": [
      "{'e', 'd', 'a', 'b', 'c'}\n"
     ]
    }
   ],
   "source": [
    "set1 = {\"a\",\"b\",\"c\"}\n",
    "set2 = {\"a\",\"d\",\"e\"}\n",
    "set3 = set1.union(set2)\n",
    "print(set3)"
   ]
  },
  {
   "cell_type": "code",
   "execution_count": null,
   "id": "6209efc1-2d79-4657-96c2-87c191686dbf",
   "metadata": {},
   "outputs": [],
   "source": []
  },
  {
   "cell_type": "code",
   "execution_count": 13,
   "id": "e537341e-eb7c-439b-ae99-5491eed35668",
   "metadata": {},
   "outputs": [
    {
     "name": "stdout",
     "output_type": "stream",
     "text": [
      "{3, 4, 5, 'a', 'b', 'c'}\n"
     ]
    }
   ],
   "source": [
    "set1 = {\"a\",\"b\",\"c\"}\n",
    "set2 = {3, 4, 5}\n",
    "\n",
    "res = set1.union(set2)\n",
    "print(res)"
   ]
  },
  {
   "cell_type": "markdown",
   "id": "dd50cdeb-c22f-49d7-bda1-33c18b1d77ef",
   "metadata": {},
   "source": [
    "## update"
   ]
  },
  {
   "cell_type": "code",
   "execution_count": null,
   "id": "28b4892c-7285-43dd-a47a-04216cbebe89",
   "metadata": {},
   "outputs": [],
   "source": [
    "used to add elements from another iterable (e.g., set, list, tuple) to the original set. It modifies the original set by adding the elements from the specified iterable.\n",
    "The elements that are already present in the original set will not be duplicated; only new elements are added."
   ]
  },
  {
   "cell_type": "code",
   "execution_count": 18,
   "id": "b9bfc5b9-f366-436e-8559-1b7d7ba308c0",
   "metadata": {},
   "outputs": [
    {
     "name": "stdout",
     "output_type": "stream",
     "text": [
      "Set 1: {1, 2, 3, 4, 5}\n"
     ]
    }
   ],
   "source": [
    "set1 = {1, 2, 3}\n",
    "set2 = {3, 4, 5}\n",
    "print(\"Set 1:\", set1)"
   ]
  },
  {
   "cell_type": "code",
   "execution_count": null,
   "id": "5282001e-7738-4e3b-869f-7a789e5c38ca",
   "metadata": {},
   "outputs": [],
   "source": []
  },
  {
   "cell_type": "code",
   "execution_count": 19,
   "id": "e09707d7-37b0-47fe-abd2-777c2b78b000",
   "metadata": {},
   "outputs": [
    {
     "name": "stdout",
     "output_type": "stream",
     "text": [
      "Set 1: {1, 2, 3}\n"
     ]
    }
   ],
   "source": [
    "set1 = {1, 2, 3}\n",
    "set2 = {3, 4, 5}\n",
    "print(\"Set 1:\", set1)"
   ]
  },
  {
   "cell_type": "code",
   "execution_count": 2,
   "id": "05c20d5b-16fc-4ddc-ad03-eb184739bcb4",
   "metadata": {},
   "outputs": [
    {
     "name": "stdout",
     "output_type": "stream",
     "text": [
      "{'jenny', 'jiya', 'kenny', 'syam', 'akash', 'ram'}\n"
     ]
    }
   ],
   "source": [
    "set1 = {'ram', 'syam','kenny'}\n",
    "set2 = {'jenny','jiya','akash'}\n",
    "set3 = {'anu','ram'}\n",
    "set1.update(set2)\n",
    "print(set1)"
   ]
  },
  {
   "cell_type": "code",
   "execution_count": 3,
   "id": "07062e7f-0e0a-4ba3-b419-a96897bcd49e",
   "metadata": {},
   "outputs": [
    {
     "name": "stdout",
     "output_type": "stream",
     "text": [
      "{'ram', 'vava', 'syam', 'menny', 'mohan'}\n"
     ]
    }
   ],
   "source": [
    "set1 = {'ram', 'syam','menny'}\n",
    "set2 = {'jenny','jiya','akash'}\n",
    "set3 = {'anu','ram'}\n",
    "set1.update(['vava','mohan'])\n",
    "print(set1)"
   ]
  },
  {
   "cell_type": "code",
   "execution_count": 7,
   "id": "25567fab-67cc-4d2d-9856-51101f038bce",
   "metadata": {},
   "outputs": [
    {
     "name": "stdout",
     "output_type": "stream",
     "text": [
      "{'anu', 'vkava', 'mohan', 'ram'}\n"
     ]
    }
   ],
   "source": [
    "set1 = {'ram', 'syam','menny'}\n",
    "set2 = {'jenny','jiya','akash'}\n",
    "set3 = {'anu','ram'}\n",
    "set3.update(['vkava','mohan'])\n",
    "print(set3)"
   ]
  },
  {
   "cell_type": "markdown",
   "id": "2081e53a-0846-440c-86e0-da1e26643d70",
   "metadata": {},
   "source": [
    "## DICTIONARY"
   ]
  },
  {
   "cell_type": "code",
   "execution_count": null,
   "id": "6f25f3e5-27a8-4963-806d-8c1eb81a016f",
   "metadata": {},
   "outputs": [],
   "source": [
    "Dictionary is a data structure that stores a collection of key-value pairs"
   ]
  },
  {
   "cell_type": "code",
   "execution_count": null,
   "id": "39bd7a39-343b-4e5a-9b68-11b7ce65d6f1",
   "metadata": {},
   "outputs": [],
   "source": [
    "Each key in the dictionary maps to a corresponding value, allowing you to retrieve the value associated with a particular key effectively"
   ]
  },
  {
   "cell_type": "code",
   "execution_count": null,
   "id": "9ca2382c-9a7b-4772-99b6-2bd92112c740",
   "metadata": {},
   "outputs": [],
   "source": [
    "Dictionaries are also known as associative arrays or hash maps in other programming languages."
   ]
  },
  {
   "cell_type": "code",
   "execution_count": null,
   "id": "f353cf35-00f2-49ab-acea-7b30a96a44b8",
   "metadata": {},
   "outputs": [],
   "source": [
    " Keys must be unique and immutable (e.g., strings, numbers, or tuples), while values can be of any data type (e.g., strings, numbers, lists, other dictionaries, etc.)."
   ]
  },
  {
   "cell_type": "code",
   "execution_count": 3,
   "id": "17800ac3-cb6d-4e8d-97a3-6b8e76116062",
   "metadata": {},
   "outputs": [
    {
     "name": "stdout",
     "output_type": "stream",
     "text": [
      "Name: John Doe\n"
     ]
    }
   ],
   "source": [
    "dict = {\n",
    "    \"name\": \"John Doe\",\n",
    "    \"age\": 30,\n",
    "    \"occupation\": \"Software Engineer\",\n",
    "    \"email\": \"john.doe@example.com\"}\n",
    "print(\"Name:\", dict[\"name\"]) "
   ]
  },
  {
   "cell_type": "code",
   "execution_count": 6,
   "id": "7b5f49a2-a7bc-4b27-8990-229d63f16755",
   "metadata": {},
   "outputs": [
    {
     "name": "stdout",
     "output_type": "stream",
     "text": [
      "{'name': 'John Doe', 'age': 30, 'occupation': 'Software Engineer', 'email': 'john.doe@example.com'}\n"
     ]
    }
   ],
   "source": [
    "print(dict)"
   ]
  },
  {
   "cell_type": "code",
   "execution_count": 10,
   "id": "c218a889-e3da-4878-bfcd-69e89cf04a0a",
   "metadata": {},
   "outputs": [
    {
     "name": "stdout",
     "output_type": "stream",
     "text": [
      "age John Doe\n"
     ]
    }
   ],
   "source": [
    "print(\"age\" , dict[\"name\"])"
   ]
  },
  {
   "cell_type": "code",
   "execution_count": 11,
   "id": "ccc0494e-7b0c-4d71-b711-dd7ff14feeb8",
   "metadata": {},
   "outputs": [
    {
     "name": "stdout",
     "output_type": "stream",
     "text": [
      "occupation Software Engineer\n"
     ]
    }
   ],
   "source": [
    "print(\"occupation\" ,dict[\"occupation\"])"
   ]
  },
  {
   "cell_type": "markdown",
   "id": "b61ddeef-3da2-40bf-bd9e-e1f2cf6e4b87",
   "metadata": {},
   "source": [
    "## 5 "
   ]
  },
  {
   "cell_type": "code",
   "execution_count": null,
   "id": "2a378993-13c8-4746-96c2-c4a51235dd85",
   "metadata": {},
   "outputs": [],
   "source": [
    "## nested dictionary"
   ]
  },
  {
   "cell_type": "code",
   "execution_count": 17,
   "id": "f351fe7f-5ab5-401a-8bd6-3a3b3adfbd3e",
   "metadata": {},
   "outputs": [
    {
     "ename": "SyntaxError",
     "evalue": "closing parenthesis '}' does not match opening parenthesis '[' (3083978192.py, line 1)",
     "output_type": "error",
     "traceback": [
      "\u001b[0;36m  Cell \u001b[0;32mIn[17], line 1\u001b[0;36m\u001b[0m\n\u001b[0;31m    dict= {'batch_name': ['data science masters', 'web dev', 'JDS'},\u001b[0m\n\u001b[0m                                                                  ^\u001b[0m\n\u001b[0;31mSyntaxError\u001b[0m\u001b[0;31m:\u001b[0m closing parenthesis '}' does not match opening parenthesis '['\n"
     ]
    }
   ],
   "source": [
    " dict= {'batch_name': ['data science masters', 'web dev', 'JDS'},\n",
    " 'start_date': {28, 14, 21},\n",
    " 'mentor_name': {'anurag',\n",
    "  'hayder',\n",
    "  'hitesh',\n",
    "  'krish naik',}\n",
    "    print{dict}            "
   ]
  },
  {
   "cell_type": "code",
   "execution_count": null,
   "id": "ba884fd4-ce94-4f4a-ba27-ebfeea4f2c44",
   "metadata": {},
   "outputs": [],
   "source": []
  },
  {
   "cell_type": "code",
   "execution_count": null,
   "id": "17aa67c6-1c9e-48e6-82a0-d998256bae54",
   "metadata": {},
   "outputs": [],
   "source": []
  },
  {
   "cell_type": "code",
   "execution_count": null,
   "id": "1e1bcacc-c8b7-4b5c-987c-c87cb9627938",
   "metadata": {},
   "outputs": [],
   "source": []
  },
  {
   "cell_type": "code",
   "execution_count": null,
   "id": "af3cb331-794f-4524-a12f-14b6b38144a4",
   "metadata": {},
   "outputs": [],
   "source": []
  },
  {
   "cell_type": "code",
   "execution_count": null,
   "id": "f09ba0ee-f109-4948-af62-5420e6aba104",
   "metadata": {},
   "outputs": [],
   "source": []
  },
  {
   "cell_type": "code",
   "execution_count": null,
   "id": "85942cda-85c2-4e97-8648-15b0437bdc3d",
   "metadata": {},
   "outputs": [],
   "source": []
  },
  {
   "cell_type": "code",
   "execution_count": null,
   "id": "e26d84c2-a7a6-4bdd-89db-7b7ba22dfe01",
   "metadata": {},
   "outputs": [],
   "source": []
  },
  {
   "cell_type": "code",
   "execution_count": null,
   "id": "8d2945a0-f12f-44fe-8dc2-51cb3a7fd79a",
   "metadata": {},
   "outputs": [],
   "source": []
  },
  {
   "cell_type": "code",
   "execution_count": null,
   "id": "56187cfd-ef37-4a9a-808b-dcf512d8e840",
   "metadata": {},
   "outputs": [],
   "source": []
  }
 ],
 "metadata": {
  "kernelspec": {
   "display_name": "Python 3 (ipykernel)",
   "language": "python",
   "name": "python3"
  },
  "language_info": {
   "codemirror_mode": {
    "name": "ipython",
    "version": 3
   },
   "file_extension": ".py",
   "mimetype": "text/x-python",
   "name": "python",
   "nbconvert_exporter": "python",
   "pygments_lexer": "ipython3",
   "version": "3.10.8"
  }
 },
 "nbformat": 4,
 "nbformat_minor": 5
}
