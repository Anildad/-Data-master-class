{
 "cells": [
  {
   "cell_type": "code",
   "execution_count": null,
   "id": "3b5077ce-fc09-4348-937c-ec637b57e77a",
   "metadata": {},
   "outputs": [],
   "source": []
  },
  {
   "cell_type": "code",
   "execution_count": null,
   "id": "dcc36ac7-6b9c-418c-93c9-3c7031dfecc3",
   "metadata": {},
   "outputs": [],
   "source": [
    "Q1. # function is used to open a file? What are the different modes of opening a file? Explain each mode of file opening. summarise it"
   ]
  },
  {
   "cell_type": "code",
   "execution_count": null,
   "id": "087eea20-e40b-4bec-be10-80bfcd241043",
   "metadata": {},
   "outputs": [],
   "source": []
  },
  {
   "cell_type": "code",
   "execution_count": null,
   "id": "cf07cc94-f16a-4580-94f2-abca1c13e5a4",
   "metadata": {},
   "outputs": [],
   "source": [
    "the function used to open a file is usually called open(). The open() function is used to establish a connection between your program and a file on your computer's file system, allowing you to perform various operations like reading or writing data to the file.\n",
    "\n",
    "When opening a file using the open() function, you can specify a mode that determines how the file will be accessed. Here are the different modes of opening a file:\n",
    "\n",
    "'r' (Read Mode): This mode allows you to read the contents of the file. You can only read data from the file but cannot modify it. If the file does not exist, an error will occur.\n",
    "\n",
    "'w' (Write Mode): This mode allows you to write data to the file. If the file already exists, it will be truncated (emptied) before writing. If the file doesn't exist, a new one will be created.\n",
    "\n",
    "'a' (Append Mode): This mode allows you to append data to the end of the file. If the file does not exist, a new one will be created.\n",
    "\n",
    "'x' (Exclusive Creation Mode): This mode is used for exclusive creation of a new file. It raises an error if the file already exists.\n",
    "\n",
    "'b' (Binary Mode): This mode is used in conjunction with other modes to indicate that the file should be treated as a binary file, rather than a text file.\n",
    "\n",
    "'t' (Text Mode, default): This mode is used in conjunction with other modes to indicate that the file should be treated as a text file. This is the default mode if no mode is specified."
   ]
  },
  {
   "cell_type": "code",
   "execution_count": null,
   "id": "80f7657f-e452-468c-be02-bb101ed21311",
   "metadata": {},
   "outputs": [],
   "source": []
  },
  {
   "cell_type": "code",
   "execution_count": null,
   "id": "87676dd9-e4c2-4eaa-8548-5ff475fadf20",
   "metadata": {},
   "outputs": [],
   "source": [
    "Q2. Why close() function is used? Why is it important to close a file? summerise it "
   ]
  },
  {
   "cell_type": "code",
   "execution_count": null,
   "id": "9727e683-8ca0-4052-bf72-361535e207f5",
   "metadata": {},
   "outputs": [],
   "source": [
    "The close() function is used in programming, specifically when working with files, to signal that you have finished using a file and want to release the associated resources, such as memory and system handles. Closing a file is important for several reasons:\n",
    "\n",
    "Resource Management: When you open a file, the operating system allocates resources to manage the file, such as memory buffers and file handles. If you don't close the file properly, these resources might not be released, leading to memory leaks and potential issues with system resource allocation.\n",
    "\n",
    "Data Integrity: When you write data to a file, it is often buffered in memory before being physically written to the storage device. Closing the file ensures that any buffered data is properly flushed and written to the file. If you don't close the file, some data might remain in memory and not be saved.\n",
    "\n",
    "File Locking: In some operating systems, files can be locked by a process while they are open. This prevents other processes from modifying the file concurrently. Failing to close a file can lead to file locking issues, where other processes are unable to access or modify the file.\n",
    "\n",
    "Performance: Keeping files open unnecessarily can lead to decreased performance, as there is a limit to the number of files a program can have open simultaneously. Closing files when they are no longer needed helps improve system performance and responsiveness.\n",
    "\n",
    "Compatibility: Some operating systems and programming languages have limits on the number of files that can be open simultaneously. Failing to close files might result in reaching this limit, causing errors or crashes in your program.\n",
    "\n",
    "In summary, using the close() function to properly close files is crucial for efficient resource management, data integrity, system performance, and ensuring compatibility with different platforms. It's a good programming practice to always close files when you are done using them to avoid potential issues and maintain the overall health and stability of your program."
   ]
  },
  {
   "cell_type": "code",
   "execution_count": null,
   "id": "ceaa897d-2dd2-43bf-8854-f00994285336",
   "metadata": {},
   "outputs": [],
   "source": []
  },
  {
   "cell_type": "code",
   "execution_count": null,
   "id": "e3d60798-73c4-4e13-9e48-64facccad6a3",
   "metadata": {},
   "outputs": [],
   "source": [
    "Q3. Write a python program to create a text file. Write ‘I want to become a Data Scientist’ in that file. Then\n",
    "close the file. Open this file and read the content of the file."
   ]
  },
  {
   "cell_type": "code",
   "execution_count": null,
   "id": "b7d91c33-ba0d-4e71-8841-72e3b5f0e4ed",
   "metadata": {},
   "outputs": [],
   "source": [
    "Step 1: Create a text file and write data to it\n",
    "filename = \"data_scientist.txt\"\n",
    "content = \"I want to become a Data Scientist\"\n",
    "\n",
    "# Open the file in write mode ('w')\n",
    "with open(filename, 'w') as file:\n",
    "    file.write(content)\n",
    "\n",
    "# Step 2: Open the file again and read its content\n",
    "# Open the file in read mode ('r')\n",
    "with open(filename, 'r') as file:\n",
    "    file_content = file.read()\n",
    "\n",
    "# Step 3: Print and summarize the content\n",
    "print(\"Content of the file:\")\n",
    "print(file_content)\n",
    "\n",
    "# Summary: The program creates a file named 'data_scientist.txt' and writes the text \"I want to become a Data Scientist\" to it.\n",
    "# It then opens the file again in read mode, reads the content, and prints it.\n",
    "# The output should display the text \"I want to become a Data Scientist\".\n",
    "When you run this program, it will create a file named 'data_scientist.txt' in the same directory as the script, write the specified text into it, and then read and display the content of the file.\n"
   ]
  },
  {
   "cell_type": "code",
   "execution_count": null,
   "id": "dc1f0d07-3e69-45ef-9292-47de1b260134",
   "metadata": {},
   "outputs": [],
   "source": []
  },
  {
   "cell_type": "code",
   "execution_count": null,
   "id": "0b0e5f58-3cf3-4d8c-975a-54201c33381d",
   "metadata": {},
   "outputs": [],
   "source": []
  },
  {
   "cell_type": "code",
   "execution_count": null,
   "id": "76a48b0b-afb8-41c8-b3db-af21a1d438f2",
   "metadata": {},
   "outputs": [],
   "source": []
  },
  {
   "cell_type": "code",
   "execution_count": null,
   "id": "f74c074c-0581-4ffc-af13-764adb8f855b",
   "metadata": {},
   "outputs": [],
   "source": [
    "Q4. Explain the following with python code: read(), readline() and readlines()."
   ]
  },
  {
   "cell_type": "code",
   "execution_count": null,
   "id": "88a8091c-89c2-4c94-8bc2-196c58208b00",
   "metadata": {},
   "outputs": [],
   "source": [
    "1..read(): This method is used to read the entire content of a file as a single string."
   ]
  },
  {
   "cell_type": "code",
   "execution_count": null,
   "id": "3ebb8035-08e6-46a2-9b38-faaeb966f4ba",
   "metadata": {},
   "outputs": [],
   "source": [
    " Open the file in read mode ('r')\n",
    "with open(\"example.txt\", 'r') as file:\n",
    "    content = file.read()\n",
    "\n",
    "print(content)"
   ]
  },
  {
   "cell_type": "code",
   "execution_count": null,
   "id": "e0c9c58e-116a-445c-85c0-90bc5c06e272",
   "metadata": {},
   "outputs": [],
   "source": []
  },
  {
   "cell_type": "code",
   "execution_count": null,
   "id": "d111d4a3-10f5-4d06-9781-781b178c977f",
   "metadata": {},
   "outputs": [],
   "source": [
    "2..readline(): This method reads a single line from the file and returns it as a string. Subsequent calls to readline() will read the next lines."
   ]
  },
  {
   "cell_type": "code",
   "execution_count": null,
   "id": "d2e0376d-edeb-4ca8-95ea-cfb8193b5cb6",
   "metadata": {},
   "outputs": [],
   "source": [
    "Open the file in read mode ('r')\n",
    "with open(\"example.txt\", 'r') as file:\n",
    "    line1 = file.readline()\n",
    "    line2 = file.readline()\n",
    "\n",
    "print(\"Line 1:\", line1)\n",
    "print(\"Line 2:\", line2)"
   ]
  },
  {
   "cell_type": "code",
   "execution_count": null,
   "id": "1c4892ec-a48a-46ec-b68d-5b853cca9fcd",
   "metadata": {},
   "outputs": [],
   "source": []
  },
  {
   "cell_type": "code",
   "execution_count": null,
   "id": "376eb215-0317-4232-9c55-bd2c1908f040",
   "metadata": {},
   "outputs": [],
   "source": [
    "3..readlines(): This method reads all the lines from the file and returns them as a list of strings."
   ]
  },
  {
   "cell_type": "code",
   "execution_count": null,
   "id": "8b61313f-533d-40ec-873c-39210e090e5a",
   "metadata": {},
   "outputs": [],
   "source": [
    "pen the file in read mode ('r')\n",
    "with open(\"example.txt\", 'r') as file:\n",
    "    lines = file.readlines()\n",
    "\n",
    "print(lines)"
   ]
  },
  {
   "cell_type": "code",
   "execution_count": null,
   "id": "4ac10435-c84e-4d53-a7cc-5b4eebbb0202",
   "metadata": {},
   "outputs": [],
   "source": [
    "Summary:\n",
    "\n",
    "read(): Reads the entire file content as a single string.\n",
    "readline(): Reads a single line at a time from the file.\n",
    "readlines(): Reads all lines from the file and returns them as a list of strings."
   ]
  },
  {
   "cell_type": "code",
   "execution_count": null,
   "id": "ed0ca479-5cda-4154-8f42-9deb3b972c9f",
   "metadata": {},
   "outputs": [],
   "source": [
    "Remember, after using these methods, the file pointer moves to the position where reading stopped.\n",
    "\n",
    "It's important to close the file after you're done with it to free up system resources, as shown in the examples using the with statement."
   ]
  },
  {
   "cell_type": "code",
   "execution_count": null,
   "id": "1bb865b3-0d72-4f3a-b89a-66e0b58502e2",
   "metadata": {},
   "outputs": [],
   "source": []
  },
  {
   "cell_type": "code",
   "execution_count": null,
   "id": "dee84ba2-970a-4a63-bdc0-bdaa751cb916",
   "metadata": {},
   "outputs": [],
   "source": []
  },
  {
   "cell_type": "code",
   "execution_count": null,
   "id": "9299077a-f347-4d4e-985d-6495f225798e",
   "metadata": {},
   "outputs": [],
   "source": [
    "Q5.Explain why with statement is used with open(). What is the advantage of using with statement and\n",
    "open() together?"
   ]
  },
  {
   "cell_type": "code",
   "execution_count": null,
   "id": "1233f4cf-344c-4794-b762-1b1538e48139",
   "metadata": {},
   "outputs": [],
   "source": [
    "**The with statement in Python is used in conjunction with the open() function for file handling.\n",
    "*It provides a convenient way to manage the opening and closing of files, ensuring that resources are properly managed and released, even if an exception is raised during the process.\n",
    "*The primary advantage of using the with statement with open() is to provide a context for file operations that automatically takes care of resource management."
   ]
  },
  {
   "cell_type": "code",
   "execution_count": null,
   "id": "2049b018-a7c2-4e4c-b734-eb792f36ac11",
   "metadata": {},
   "outputs": [],
   "source": [
    "***Here's why the with statement is used with open() and its advantages:"
   ]
  },
  {
   "cell_type": "code",
   "execution_count": null,
   "id": "0cd09721-3080-438f-9c50-c396fe1b3a58",
   "metadata": {},
   "outputs": [],
   "source": [
    "1..Automatic Resource Management:\n",
    "    \n",
    "    When you use the with statement with open(), Python automatically takes care of opening the file and ensuring it is properly closed when you're done,\n",
    "    -regardless of whether the code block is exited normally or due to an exception. \n",
    "This prevents resource leaks and potential issues with unclosed files."
   ]
  },
  {
   "cell_type": "code",
   "execution_count": null,
   "id": "8faa084f-a958-483a-9467-ae1abfd21bee",
   "metadata": {},
   "outputs": [],
   "source": [
    "2..Cleaner Code:\n",
    "    \n",
    "    Using the with statement makes your code cleaner and more readable. \n",
    "It encapsulates the file operations within a well-defined context, making it clear where the file is being used and closed.\n",
    "This is especially useful in larger programs where managing resources manually can lead to error-prone and hard-to-maintain code."
   ]
  },
  {
   "cell_type": "code",
   "execution_count": null,
   "id": "5f9dee39-f9f3-490d-ab80-18b13670e99f",
   "metadata": {},
   "outputs": [],
   "source": [
    "3..Less Error-Prone:\n",
    "    \n",
    "    Since the with statement guarantees that the file will be closed properly, you're less likely to encounter errors related to forgetting to close files after use.\n",
    "    This improves the robustness of your code."
   ]
  },
  {
   "cell_type": "code",
   "execution_count": null,
   "id": "0b0b2e3d-6441-4628-b741-eb8ce782ce5f",
   "metadata": {},
   "outputs": [],
   "source": [
    "4.Scoped Variables:\n",
    "    \n",
    "    Variables defined within the with block are limited to that scope.\n",
    "This helps avoid potential naming conflicts and unintended variable modifications outside of the file-handling context."
   ]
  },
  {
   "cell_type": "code",
   "execution_count": null,
   "id": "5edc18df-bee2-447d-9896-0c829c7c4c80",
   "metadata": {},
   "outputs": [],
   "source": [
    "**example to illustrate the use of the with statement with open():"
   ]
  },
  {
   "cell_type": "code",
   "execution_count": null,
   "id": "e9d35561-3a84-4cfe-b74d-ab206b5553c0",
   "metadata": {},
   "outputs": [],
   "source": [
    " Without using with statement\n",
    "file = open(\"example.txt\", 'r')\n",
    "try:\n",
    "    content = file.read()\n",
    "finally:\n",
    "    file.close()\n",
    "\n",
    "# Using with statement\n",
    "with open(\"example.txt\", 'r') as file:\n",
    "    content = file.read()\n"
   ]
  },
  {
   "cell_type": "code",
   "execution_count": null,
   "id": "8b7a58f3-0242-40d9-9b40-f6d2287e1685",
   "metadata": {},
   "outputs": [],
   "source": [
    "The 'with' statement automatically closes the file, even if an exception occurs.\n",
    "\n",
    "In the first approach, without the with statement, you need to manually ensure that the file is closed, which can lead to mistakes.\n",
    "The second approach using the with statement is more concise, cleaner, and ensures proper resource management.\n",
    "\n"
   ]
  },
  {
   "cell_type": "code",
   "execution_count": null,
   "id": "60032953-3861-44c3-b523-1610053f17e1",
   "metadata": {},
   "outputs": [],
   "source": [
    "In summary, using the with statement with open() simplifies and enhances,\n",
    "the reliability of file handling in your Python code by automating the management of resources and reducing the likelihood of errors."
   ]
  },
  {
   "cell_type": "code",
   "execution_count": null,
   "id": "595f0411-7da5-4f04-ad0a-688c8cf460a2",
   "metadata": {},
   "outputs": [],
   "source": []
  },
  {
   "cell_type": "code",
   "execution_count": null,
   "id": "ddcae4b7-8371-4dd0-ae51-c776d1c57520",
   "metadata": {},
   "outputs": [],
   "source": [
    "Q6. Explain the write() and writelines() functions. Give a suitable example."
   ]
  },
  {
   "cell_type": "code",
   "execution_count": null,
   "id": "3cf49c3d-fd7e-4eef-a0dc-2a88995b0c5a",
   "metadata": {},
   "outputs": [],
   "source": [
    "*Certainly! The write() and writelines() functions are used to write data to a file in Python."
   ]
  },
  {
   "cell_type": "code",
   "execution_count": null,
   "id": "759398c6-27fc-49fd-9087-160d20cd7d6a",
   "metadata": {},
   "outputs": [],
   "source": [
    "1..write() Function:\n",
    "    \n",
    "    The write() function is used to write a single string of data to a file.\n",
    "It appends the specified string to the end of the file's existing content.\n",
    "If the file does not exist, a new file is created."
   ]
  },
  {
   "cell_type": "code",
   "execution_count": null,
   "id": "ecab15cb-197a-4144-bd2b-d097037f9243",
   "metadata": {},
   "outputs": [],
   "source": [
    "Open the file in write mode ('w')\n",
    "with open(\"output.txt\", 'w') as file:\n",
    "    file.write(\"Hello, World!\\n\")\n",
    "    file.write(\"This is an example of using the write() function.\\n\")"
   ]
  },
  {
   "cell_type": "code",
   "execution_count": null,
   "id": "88d4e6c8-c50c-4206-a67a-27981db96744",
   "metadata": {},
   "outputs": [],
   "source": [
    "In this example, the write() function is used to write two lines of text to the file named \"output.txt\".\n",
    "The \\n character is used to indicate a newline."
   ]
  },
  {
   "cell_type": "code",
   "execution_count": null,
   "id": "52a24782-b3d1-4bdd-9c4e-3cf696529764",
   "metadata": {},
   "outputs": [],
   "source": [
    "2..writelines() Function:\n",
    "    The writelines() function is used to write a list of strings to a file.\n",
    "It does not add newline characters between the strings, so you need to add them manually if desired."
   ]
  },
  {
   "cell_type": "code",
   "execution_count": null,
   "id": "d78ede0a-54b7-43eb-87f5-388eccb4edf7",
   "metadata": {},
   "outputs": [],
   "source": [
    "lines = [\"Line 1\\n\", \"Line 2\\n\", \"Line 3\\n\"]\n",
    "\n",
    "# Open the file in write mode ('w')\n",
    "with open(\"output.txt\", 'w') as file:\n",
    "    file.writelines(lines)"
   ]
  },
  {
   "cell_type": "code",
   "execution_count": null,
   "id": "d19f612d-f304-47e8-9791-5d216b60ca6b",
   "metadata": {},
   "outputs": [],
   "source": [
    "this example, the writelines() function is used to write a list of lines to the file.\n",
    "Each line is a separate string within the lines list, and the newline characters \\n are included in each string to create newlines in the file."
   ]
  },
  {
   "cell_type": "code",
   "execution_count": null,
   "id": "27424c24-f09a-424d-bddc-f16a5995a930",
   "metadata": {},
   "outputs": [],
   "source": [
    "#Summery"
   ]
  },
  {
   "cell_type": "code",
   "execution_count": null,
   "id": "09d3f0ac-03f2-4067-8493-faefb0b4dd19",
   "metadata": {},
   "outputs": [],
   "source": [
    "write():\n",
    "    Writes a single string to the file.\n",
    "Appends the string to the end of the file's existing content or creates a new file if it doesn't exist."
   ]
  },
  {
   "cell_type": "code",
   "execution_count": null,
   "id": "952bd3f1-72a3-4e9d-962e-d7a648541580",
   "metadata": {},
   "outputs": [],
   "source": [
    "writelines(): Writes a list of strings to the file.\n",
    "Does not automatically add newline characters between strings, so you need to include them if desired."
   ]
  },
  {
   "cell_type": "code",
   "execution_count": null,
   "id": "bdc14e7f-5d68-4143-8777-a7687aaf2b5d",
   "metadata": {},
   "outputs": [],
   "source": [
    "Both functions are used for writing data to files,\n",
    "and their usage depends on whether you want to write individual strings with explicit newline characters (write()) or \n",
    "a list of strings without automatic newlines between them (writelines())."
   ]
  },
  {
   "cell_type": "code",
   "execution_count": null,
   "id": "5fa819f7-7ea5-4ec2-9db4-33d47a31cf31",
   "metadata": {},
   "outputs": [],
   "source": []
  },
  {
   "cell_type": "code",
   "execution_count": null,
   "id": "e4bcf20c-24ba-4d7b-a15c-b34c953f4375",
   "metadata": {},
   "outputs": [],
   "source": []
  }
 ],
 "metadata": {
  "kernelspec": {
   "display_name": "Python 3 (ipykernel)",
   "language": "python",
   "name": "python3"
  },
  "language_info": {
   "codemirror_mode": {
    "name": "ipython",
    "version": 3
   },
   "file_extension": ".py",
   "mimetype": "text/x-python",
   "name": "python",
   "nbconvert_exporter": "python",
   "pygments_lexer": "ipython3",
   "version": "3.10.8"
  }
 },
 "nbformat": 4,
 "nbformat_minor": 5
}
