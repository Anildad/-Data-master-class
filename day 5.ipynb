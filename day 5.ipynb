{
 "cells": [
  {
   "cell_type": "code",
   "execution_count": 1,
   "id": "3c5b2ebf-f8f6-4a0e-8af4-bb5863a391b9",
   "metadata": {},
   "outputs": [
    {
     "name": "stdout",
     "output_type": "stream",
     "text": [
      "{1: 0, 2: 0, 3: 0, 4: 0, 5: 0}\n"
     ]
    }
   ],
   "source": [
    "## fromkeys\n",
    "keys_list = [1,2,3,4,5]\n",
    "default_value = 0\n",
    "result_dict = dict.fromkeys(keys_list, default_value)\n",
    "print(result_dict)"
   ]
  },
  {
   "cell_type": "code",
   "execution_count": 4,
   "id": "438a6c8d-e0d7-45f6-b8b8-9d720a44104a",
   "metadata": {},
   "outputs": [
    {
     "ename": "NameError",
     "evalue": "name 'd' is not defined",
     "output_type": "error",
     "traceback": [
      "\u001b[0;31m---------------------------------------------------------------------------\u001b[0m",
      "\u001b[0;31mNameError\u001b[0m                                 Traceback (most recent call last)",
      "Cell \u001b[0;32mIn[4], line 1\u001b[0m\n\u001b[0;32m----> 1\u001b[0m \u001b[43md\u001b[49m\u001b[38;5;241m.\u001b[39mfromkeys((\u001b[38;5;241m1\u001b[39m,\u001b[38;5;241m2\u001b[39m,\u001b[38;5;241m3\u001b[39m,\u001b[38;5;241m4\u001b[39m) ,(a,b,c))\n",
      "\u001b[0;31mNameError\u001b[0m: name 'd' is not defined"
     ]
    }
   ],
   "source": [
    "d.fromkeys((1,2,3,4) ,(a,b,c))"
   ]
  },
  {
   "cell_type": "code",
   "execution_count": 14,
   "id": "3e52a591-5584-4805-9cb8-8e7b2eeff4e4",
   "metadata": {},
   "outputs": [
    {
     "name": "stdout",
     "output_type": "stream",
     "text": [
      "{1: (6, 7), 2: (6, 7), 3: (6, 7), 4: (6, 7)}\n"
     ]
    }
   ],
   "source": [
    "keys_list = [1,2,3,4]\n",
    "default_value = 6,7\n",
    "result_dict = dict.fromkeys(keys_list, default_value)\n",
    "print(result_dict)"
   ]
  },
  {
   "cell_type": "code",
   "execution_count": null,
   "id": "1390eb32-622a-4207-bebe-0d380ecd6a6b",
   "metadata": {},
   "outputs": [],
   "source": []
  },
  {
   "cell_type": "code",
   "execution_count": 20,
   "id": "30c9b582-d26c-47a3-856d-9b8ca6ef68c1",
   "metadata": {},
   "outputs": [
    {
     "name": "stdout",
     "output_type": "stream",
     "text": [
      "{1: (6, 9), 2: (6, 9), 3: (6, 9), 4: (6, 9)}\n"
     ]
    }
   ],
   "source": [
    "keys_list = [1,2,3,4]\n",
    "default_value = 6,9\n",
    "result_dict = dict.fromkeys(keys_list, default_value)\n",
    "print(result_dict)"
   ]
  },
  {
   "cell_type": "code",
   "execution_count": 22,
   "id": "5df0cea6-21f4-41f6-9d37-6a5470e29f4f",
   "metadata": {},
   "outputs": [
    {
     "data": {
      "text/plain": [
       "({'key1': 'value', 'key2': 'value2'}, {'key3': 'value3', 'key4': 'value4'})"
      ]
     },
     "execution_count": 22,
     "metadata": {},
     "output_type": "execute_result"
    }
   ],
   "source": [
    "d19= {\"key1\" : \"value\" , \"key2\" :\"value2\"}\n",
    "d20 = {\"key3\" :\"value3\", \"key4\" :\"value4\"}\n",
    "(d19,d20)"
   ]
  },
  {
   "cell_type": "code",
   "execution_count": 30,
   "id": "00311c7a-b5f3-4457-80a8-65cdb8891d8e",
   "metadata": {},
   "outputs": [
    {
     "data": {
      "text/plain": [
       "({'key1': 'value', 'key2': 'value2'}, {'key3': 'value3', 'key4': 'value4'})"
      ]
     },
     "execution_count": 30,
     "metadata": {},
     "output_type": "execute_result"
    }
   ],
   "source": [
    "d19= {\"key1\" : \"value\" , \"key2\" :\"value2\"}\n",
    "d20 = {\"key3\" :\"value3\", \"key4\" :\"value4\"}\n",
    "(d19,d20)"
   ]
  },
  {
   "cell_type": "code",
   "execution_count": 32,
   "id": "4bb69e08-2926-4a97-afde-71131dcf8bc8",
   "metadata": {},
   "outputs": [],
   "source": [
    "d19.update(d20)"
   ]
  },
  {
   "cell_type": "code",
   "execution_count": 33,
   "id": "6708b1e7-e7d1-4ac8-b577-bd1ee61e13a2",
   "metadata": {},
   "outputs": [
    {
     "data": {
      "text/plain": [
       "{'key1': 'value', 'key2': 'value2', 'key3': 'value3', 'key4': 'value4'}"
      ]
     },
     "execution_count": 33,
     "metadata": {},
     "output_type": "execute_result"
    }
   ],
   "source": [
    "d19"
   ]
  },
  {
   "cell_type": "code",
   "execution_count": 36,
   "id": "c7a7a703-139e-4034-b2e1-8a6aa5e3c9dc",
   "metadata": {},
   "outputs": [
    {
     "data": {
      "text/plain": [
       "{'key3': 'value3', 'key4': 'value4'}"
      ]
     },
     "execution_count": 36,
     "metadata": {},
     "output_type": "execute_result"
    }
   ],
   "source": [
    "d20"
   ]
  },
  {
   "cell_type": "code",
   "execution_count": null,
   "id": "a25c92d9-b988-4817-88cc-0bad2b262b00",
   "metadata": {},
   "outputs": [],
   "source": []
  },
  {
   "cell_type": "code",
   "execution_count": null,
   "id": "f0d1bef9-b9cf-4fb3-a4f3-627af75d864f",
   "metadata": {},
   "outputs": [],
   "source": []
  },
  {
   "cell_type": "code",
   "execution_count": null,
   "id": "73d46ffb-c5fa-4d3a-a13f-997135395b26",
   "metadata": {},
   "outputs": [],
   "source": []
  },
  {
   "cell_type": "code",
   "execution_count": null,
   "id": "b8c362e7-9baa-428d-b381-59eb9fdc8be6",
   "metadata": {},
   "outputs": [],
   "source": []
  },
  {
   "cell_type": "code",
   "execution_count": null,
   "id": "dc5d856e-a458-4d44-9533-5d04b472a62e",
   "metadata": {},
   "outputs": [],
   "source": []
  },
  {
   "cell_type": "code",
   "execution_count": null,
   "id": "c3b9c1cc-1803-44c1-9cdd-6c30ecca469a",
   "metadata": {},
   "outputs": [],
   "source": []
  },
  {
   "cell_type": "code",
   "execution_count": null,
   "id": "c364beba-cfb7-43db-bf06-a2704c244816",
   "metadata": {},
   "outputs": [],
   "source": []
  },
  {
   "cell_type": "code",
   "execution_count": null,
   "id": "4e03a9cc-c7f8-463e-aab5-297b58145310",
   "metadata": {},
   "outputs": [],
   "source": []
  },
  {
   "cell_type": "code",
   "execution_count": null,
   "id": "6aa26935-9926-4b9a-ba6e-94ac3dccf356",
   "metadata": {},
   "outputs": [],
   "source": []
  },
  {
   "cell_type": "code",
   "execution_count": null,
   "id": "ee2b8dde-282e-416a-bd39-1159356801a1",
   "metadata": {},
   "outputs": [],
   "source": []
  },
  {
   "cell_type": "code",
   "execution_count": null,
   "id": "e125d14f-3b70-446e-94d3-22c64e34f208",
   "metadata": {},
   "outputs": [],
   "source": []
  }
 ],
 "metadata": {
  "kernelspec": {
   "display_name": "Python 3 (ipykernel)",
   "language": "python",
   "name": "python3"
  },
  "language_info": {
   "codemirror_mode": {
    "name": "ipython",
    "version": 3
   },
   "file_extension": ".py",
   "mimetype": "text/x-python",
   "name": "python",
   "nbconvert_exporter": "python",
   "pygments_lexer": "ipython3",
   "version": "3.10.8"
  }
 },
 "nbformat": 4,
 "nbformat_minor": 5
}
