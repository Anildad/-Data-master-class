{
 "cells": [
  {
   "cell_type": "code",
   "execution_count": null,
   "id": "339ab945-4dee-4658-8214-9793a8fb69fc",
   "metadata": {},
   "outputs": [],
   "source": [
    "lambda"
   ]
  },
  {
   "cell_type": "code",
   "execution_count": null,
   "id": "7580fe6a-a6c6-468a-9ece-d65e6f510ef0",
   "metadata": {},
   "outputs": [],
   "source": [
    "n =3 \n",
    "p = 2"
   ]
  },
  {
   "cell_type": "code",
   "execution_count": 2,
   "id": "87c2110e-c428-42aa-bef3-05f0e8fada15",
   "metadata": {},
   "outputs": [
    {
     "data": {
      "text/plain": [
       "9"
      ]
     },
     "execution_count": 2,
     "metadata": {},
     "output_type": "execute_result"
    }
   ],
   "source": [
    "def test(n,p):\n",
    "    return n**p\n",
    "test(3,2)"
   ]
  },
  {
   "cell_type": "code",
   "execution_count": null,
   "id": "41a42fed-8bff-4407-a948-b352aa35d118",
   "metadata": {},
   "outputs": [],
   "source": []
  },
  {
   "cell_type": "code",
   "execution_count": null,
   "id": "b83cc966-b393-4054-aaac-7beb98c10c68",
   "metadata": {},
   "outputs": [],
   "source": [
    "lambda "
   ]
  },
  {
   "cell_type": "code",
   "execution_count": null,
   "id": "fb08428f-f03a-40d3-a983-7e7bdd977a66",
   "metadata": {},
   "outputs": [],
   "source": [
    "n = 4\n",
    "p = 2"
   ]
  },
  {
   "cell_type": "code",
   "execution_count": 3,
   "id": "3078f603-9dcc-42fe-8aa4-604603beff97",
   "metadata": {},
   "outputs": [
    {
     "data": {
      "text/plain": [
       "16"
      ]
     },
     "execution_count": 3,
     "metadata": {},
     "output_type": "execute_result"
    }
   ],
   "source": [
    "def test(n,p):\n",
    "    return n**p\n",
    "test(4,2)"
   ]
  },
  {
   "cell_type": "code",
   "execution_count": null,
   "id": "e7e86d40-3e32-45fe-b409-de9d26bcee6a",
   "metadata": {},
   "outputs": [],
   "source": [
    "lambda"
   ]
  },
  {
   "cell_type": "code",
   "execution_count": null,
   "id": "ba5f2892-1857-4168-93f7-10909e893617",
   "metadata": {},
   "outputs": [],
   "source": [
    "n= 3\n",
    "p = 6"
   ]
  },
  {
   "cell_type": "code",
   "execution_count": null,
   "id": "06d94947-4fff-4113-95dc-a62fdd484c97",
   "metadata": {},
   "outputs": [],
   "source": []
  },
  {
   "cell_type": "code",
   "execution_count": null,
   "id": "ed298397-898b-4388-95ff-3368cc1ba385",
   "metadata": {},
   "outputs": [],
   "source": [
    "lambda"
   ]
  },
  {
   "cell_type": "code",
   "execution_count": null,
   "id": "2de6d152-e946-4644-bc12-b4d271e3f2bd",
   "metadata": {},
   "outputs": [],
   "source": [
    "n = 2\n",
    "p = 3"
   ]
  },
  {
   "cell_type": "code",
   "execution_count": 15,
   "id": "0b0ce5ec-1a5b-41af-9a1a-48b1a65055e0",
   "metadata": {},
   "outputs": [
    {
     "data": {
      "text/plain": [
       "8"
      ]
     },
     "execution_count": 15,
     "metadata": {},
     "output_type": "execute_result"
    }
   ],
   "source": [
    "def test (n,p):\n",
    "    return n**p\n",
    "test (2,3)"
   ]
  },
  {
   "cell_type": "code",
   "execution_count": null,
   "id": "70931247-db4f-4361-adbc-fe900d3d9f02",
   "metadata": {},
   "outputs": [],
   "source": []
  },
  {
   "cell_type": "code",
   "execution_count": null,
   "id": "1e3a50db-1e73-4c00-8528-a5ff1f8c34f8",
   "metadata": {},
   "outputs": [],
   "source": [
    "n= 3\n",
    "p= 2"
   ]
  },
  {
   "cell_type": "code",
   "execution_count": 11,
   "id": "c701fd72-766c-4b31-b859-dd321251e8ff",
   "metadata": {},
   "outputs": [
    {
     "data": {
      "text/plain": [
       "729"
      ]
     },
     "execution_count": 11,
     "metadata": {},
     "output_type": "execute_result"
    }
   ],
   "source": [
    "def test(n,p):\n",
    "    return n**p\n",
    "test (n,p)"
   ]
  },
  {
   "cell_type": "code",
   "execution_count": null,
   "id": "d747ced8-b655-4bdf-87bd-4e894bb0d4ea",
   "metadata": {},
   "outputs": [],
   "source": []
  },
  {
   "cell_type": "code",
   "execution_count": null,
   "id": "c0aa378c-14ae-403d-8bdf-8436bf4b7fd4",
   "metadata": {},
   "outputs": [],
   "source": [
    "n= 3\n",
    "p= 2"
   ]
  },
  {
   "cell_type": "code",
   "execution_count": 12,
   "id": "3eddf9be-a7e6-469d-a2df-2bb11864a921",
   "metadata": {},
   "outputs": [
    {
     "data": {
      "text/plain": [
       "9"
      ]
     },
     "execution_count": 12,
     "metadata": {},
     "output_type": "execute_result"
    }
   ],
   "source": [
    "def test(n,p):\n",
    "    return n**p\n",
    "test (3,2)"
   ]
  },
  {
   "cell_type": "code",
   "execution_count": null,
   "id": "d5bda17c-8c6a-4842-a3ee-6e34279f2bd7",
   "metadata": {},
   "outputs": [],
   "source": [
    "n= 4\n",
    "p= 6"
   ]
  },
  {
   "cell_type": "code",
   "execution_count": 16,
   "id": "6d26ffbe-d348-44cf-a2a9-d49f0a46b188",
   "metadata": {},
   "outputs": [
    {
     "data": {
      "text/plain": [
       "4096"
      ]
     },
     "execution_count": 16,
     "metadata": {},
     "output_type": "execute_result"
    }
   ],
   "source": [
    "def test(n,p):\n",
    "    return n**p\n",
    "test (4,6)"
   ]
  },
  {
   "cell_type": "code",
   "execution_count": 18,
   "id": "45265b9b-8e41-45e4-940f-0a7ec144cbb0",
   "metadata": {},
   "outputs": [
    {
     "data": {
      "text/plain": [
       "6561"
      ]
     },
     "execution_count": 18,
     "metadata": {},
     "output_type": "execute_result"
    }
   ],
   "source": [
    "test(9,4)"
   ]
  },
  {
   "cell_type": "code",
   "execution_count": null,
   "id": "cce5b34c-ddef-4a08-ab95-acd4aa18a523",
   "metadata": {},
   "outputs": [],
   "source": []
  },
  {
   "cell_type": "code",
   "execution_count": null,
   "id": "d2ea3953-ffe1-4185-9c88-5486399eab08",
   "metadata": {},
   "outputs": [],
   "source": [
    "a= 3\n",
    "n= 6"
   ]
  },
  {
   "cell_type": "code",
   "execution_count": 19,
   "id": "1ee58680-5d24-4665-9a40-7280d17ac9b2",
   "metadata": {},
   "outputs": [
    {
     "data": {
      "text/plain": [
       "216"
      ]
     },
     "execution_count": 19,
     "metadata": {},
     "output_type": "execute_result"
    }
   ],
   "source": [
    "def test(a,n):\n",
    "    return n**a\n",
    "test(3,6)"
   ]
  },
  {
   "cell_type": "code",
   "execution_count": 20,
   "id": "d5f402db-d24d-476b-b3d8-db3f4a04ddf0",
   "metadata": {},
   "outputs": [
    {
     "data": {
      "text/plain": [
       "4096"
      ]
     },
     "execution_count": 20,
     "metadata": {},
     "output_type": "execute_result"
    }
   ],
   "source": [
    "test(4,8)"
   ]
  },
  {
   "cell_type": "code",
   "execution_count": null,
   "id": "4934f01c-1699-4cc0-b43f-04931f6b3a1e",
   "metadata": {},
   "outputs": [],
   "source": [
    "# another type lambda(multiple)"
   ]
  },
  {
   "cell_type": "code",
   "execution_count": 22,
   "id": "4688f6bd-0014-4a69-9f68-052233df0ccf",
   "metadata": {},
   "outputs": [
    {
     "data": {
      "text/plain": [
       "9"
      ]
     },
     "execution_count": 22,
     "metadata": {},
     "output_type": "execute_result"
    }
   ],
   "source": [
    "a = lambda n,p : n**p\n",
    "a(3,2)"
   ]
  },
  {
   "cell_type": "code",
   "execution_count": 23,
   "id": "f9c59481-2dc5-4636-8b00-98d523e562fa",
   "metadata": {},
   "outputs": [
    {
     "data": {
      "text/plain": [
       "729"
      ]
     },
     "execution_count": 23,
     "metadata": {},
     "output_type": "execute_result"
    }
   ],
   "source": [
    "b = lambda n,p : n**p\n",
    "b(3,6)"
   ]
  },
  {
   "cell_type": "code",
   "execution_count": 24,
   "id": "11f5d8d1-f616-404f-916d-17e8249b4c51",
   "metadata": {},
   "outputs": [
    {
     "data": {
      "text/plain": [
       "32768"
      ]
     },
     "execution_count": 24,
     "metadata": {},
     "output_type": "execute_result"
    }
   ],
   "source": [
    "test(5,8)"
   ]
  },
  {
   "cell_type": "code",
   "execution_count": null,
   "id": "eb8203b1-7f27-4a00-8188-84513dde5b44",
   "metadata": {},
   "outputs": [],
   "source": [
    " "
   ]
  },
  {
   "cell_type": "code",
   "execution_count": 25,
   "id": "85822283-15b0-427f-92bd-cd1e8936399d",
   "metadata": {},
   "outputs": [
    {
     "data": {
      "text/plain": [
       "4096"
      ]
     },
     "execution_count": 25,
     "metadata": {},
     "output_type": "execute_result"
    }
   ],
   "source": [
    "b = lambda n,p : n**p\n",
    "b(4,6)"
   ]
  },
  {
   "cell_type": "code",
   "execution_count": 26,
   "id": "d84cf6e8-9fc7-4a12-a7bc-91cc8df72343",
   "metadata": {},
   "outputs": [
    {
     "data": {
      "text/plain": [
       "8"
      ]
     },
     "execution_count": 26,
     "metadata": {},
     "output_type": "execute_result"
    }
   ],
   "source": [
    "a = lambda n,p : n**p\n",
    "a(2,3)"
   ]
  },
  {
   "cell_type": "code",
   "execution_count": null,
   "id": "9e0d6819-b38f-4504-aa4c-db397de98b7d",
   "metadata": {},
   "outputs": [],
   "source": [
    "a= 3\n",
    "n= 5"
   ]
  },
  {
   "cell_type": "code",
   "execution_count": 27,
   "id": "d883b2da-bb88-41d1-9600-de2fa261aad2",
   "metadata": {},
   "outputs": [
    {
     "data": {
      "text/plain": [
       "243"
      ]
     },
     "execution_count": 27,
     "metadata": {},
     "output_type": "execute_result"
    }
   ],
   "source": [
    "def test(n,p):\n",
    "    return n**p\n",
    "test(3,5)"
   ]
  },
  {
   "cell_type": "code",
   "execution_count": 28,
   "id": "8e31a2b7-b867-472c-9c28-5017615e2097",
   "metadata": {},
   "outputs": [
    {
     "data": {
      "text/plain": [
       "81"
      ]
     },
     "execution_count": 28,
     "metadata": {},
     "output_type": "execute_result"
    }
   ],
   "source": [
    "b = lambda n,p : n**p\n",
    "b(3,4)"
   ]
  },
  {
   "cell_type": "code",
   "execution_count": null,
   "id": "c01d8eca-2ecf-43f6-8d7b-e2d367c69169",
   "metadata": {},
   "outputs": [],
   "source": [
    "#Add in lambda "
   ]
  },
  {
   "cell_type": "code",
   "execution_count": 31,
   "id": "99d4bfdb-1c0b-4994-8382-4fd0b614cf95",
   "metadata": {},
   "outputs": [
    {
     "data": {
      "text/plain": [
       "5"
      ]
     },
     "execution_count": 31,
     "metadata": {},
     "output_type": "execute_result"
    }
   ],
   "source": [
    "a = lambda n,p : n+p\n",
    "a(2,3)"
   ]
  },
  {
   "cell_type": "code",
   "execution_count": null,
   "id": "c120c7cd-9f6e-4a0d-99c4-328d1ec4ef27",
   "metadata": {},
   "outputs": [],
   "source": []
  },
  {
   "cell_type": "code",
   "execution_count": 32,
   "id": "4d803f3e-5661-45bd-b806-3a12312b5609",
   "metadata": {},
   "outputs": [
    {
     "data": {
      "text/plain": [
       "68"
      ]
     },
     "execution_count": 32,
     "metadata": {},
     "output_type": "execute_result"
    }
   ],
   "source": [
    "a = lambda n,p : n+p\n",
    "a(23,45)"
   ]
  },
  {
   "cell_type": "code",
   "execution_count": null,
   "id": "ff64ab7a-143a-40e9-9569-7b90d53a839d",
   "metadata": {},
   "outputs": [],
   "source": []
  },
  {
   "cell_type": "code",
   "execution_count": 33,
   "id": "6a959890-0bc5-4308-9bb1-09027cb6ee63",
   "metadata": {},
   "outputs": [
    {
     "data": {
      "text/plain": [
       "110"
      ]
     },
     "execution_count": 33,
     "metadata": {},
     "output_type": "execute_result"
    }
   ],
   "source": [
    "a = lambda n,p : n+p\n",
    "a(45,65)"
   ]
  },
  {
   "cell_type": "code",
   "execution_count": null,
   "id": "b7a543d6-949f-4bcb-92ee-58ecdcabcf40",
   "metadata": {},
   "outputs": [],
   "source": []
  },
  {
   "cell_type": "code",
   "execution_count": null,
   "id": "896fa2fe-7f47-4551-9f90-13dcb40c16dd",
   "metadata": {},
   "outputs": [],
   "source": [
    "# celisi to forenheite "
   ]
  },
  {
   "cell_type": "code",
   "execution_count": 34,
   "id": "77691d07-a747-4e92-bd72-30b50f4d097f",
   "metadata": {},
   "outputs": [
    {
     "data": {
      "text/plain": [
       "93.2"
      ]
     },
     "execution_count": 34,
     "metadata": {},
     "output_type": "execute_result"
    }
   ],
   "source": [
    "c_to_f = lambda c :(9/5)*c+32\n",
    "c_to_f(34)"
   ]
  },
  {
   "cell_type": "code",
   "execution_count": null,
   "id": "9c76342e-29da-4bfe-9b87-a52d4b657070",
   "metadata": {},
   "outputs": [],
   "source": []
  },
  {
   "cell_type": "code",
   "execution_count": 36,
   "id": "0159c576-1ff8-4048-be49-7d4c663f537d",
   "metadata": {},
   "outputs": [
    {
     "data": {
      "text/plain": [
       "77.19999999999999"
      ]
     },
     "execution_count": 36,
     "metadata": {},
     "output_type": "execute_result"
    }
   ],
   "source": [
    "c_to_f = lambda c :(6/5)*c+34\n",
    "c_to_f(36)"
   ]
  },
  {
   "cell_type": "code",
   "execution_count": null,
   "id": "d007ab84-af1e-4a91-87b0-68e83348bc30",
   "metadata": {},
   "outputs": [],
   "source": []
  },
  {
   "cell_type": "code",
   "execution_count": 37,
   "id": "c40faca3-5536-4f03-916e-c19ff7bfd99e",
   "metadata": {},
   "outputs": [
    {
     "data": {
      "text/plain": [
       "110.5"
      ]
     },
     "execution_count": 37,
     "metadata": {},
     "output_type": "execute_result"
    }
   ],
   "source": [
    "c_to_f = lambda c :(9/4)*c+34\n",
    "c_to_f(34)"
   ]
  },
  {
   "cell_type": "code",
   "execution_count": null,
   "id": "3f9d8294-7073-4e74-a207-afdece92155c",
   "metadata": {},
   "outputs": [],
   "source": []
  },
  {
   "cell_type": "code",
   "execution_count": 38,
   "id": "852d5f70-96a0-4371-9930-326a5b9f50c8",
   "metadata": {},
   "outputs": [
    {
     "data": {
      "text/plain": [
       "106.0"
      ]
     },
     "execution_count": 38,
     "metadata": {},
     "output_type": "execute_result"
    }
   ],
   "source": [
    "c_to_f =lambda c :(9/4)*c+34\n",
    "c_to_f(32)"
   ]
  },
  {
   "cell_type": "code",
   "execution_count": null,
   "id": "57162a51-b56c-43a7-bd99-a80447b2dc6c",
   "metadata": {},
   "outputs": [],
   "source": []
  },
  {
   "cell_type": "code",
   "execution_count": 39,
   "id": "bd42a69a-a94c-4ba0-8874-37bdcc7f6dac",
   "metadata": {},
   "outputs": [
    {
     "data": {
      "text/plain": [
       "106.0"
      ]
     },
     "execution_count": 39,
     "metadata": {},
     "output_type": "execute_result"
    }
   ],
   "source": [
    "c_to_f = lambda c :(9/4)*c+34\n",
    "c_to_f(32)"
   ]
  },
  {
   "cell_type": "code",
   "execution_count": null,
   "id": "d14d30a0-fd59-4baa-8932-8cf4bdb235d7",
   "metadata": {},
   "outputs": [],
   "source": []
  },
  {
   "cell_type": "code",
   "execution_count": 40,
   "id": "98e6b9ce-4471-4ed8-b5f5-99711c0f8eaf",
   "metadata": {},
   "outputs": [
    {
     "data": {
      "text/plain": [
       "93.2"
      ]
     },
     "execution_count": 40,
     "metadata": {},
     "output_type": "execute_result"
    }
   ],
   "source": [
    "c_to_f =lambda c :(9/5)*c+32\n",
    "c_to_f(34)"
   ]
  },
  {
   "cell_type": "code",
   "execution_count": null,
   "id": "b59bee8e-5647-42ef-abd2-afa968b75155",
   "metadata": {},
   "outputs": [],
   "source": [
    "#find maximum number between to number"
   ]
  },
  {
   "cell_type": "code",
   "execution_count": 41,
   "id": "cd198806-5ce0-4efd-a09f-0ea2aac9d9cd",
   "metadata": {},
   "outputs": [
    {
     "data": {
      "text/plain": [
       "34"
      ]
     },
     "execution_count": 41,
     "metadata": {},
     "output_type": "execute_result"
    }
   ],
   "source": [
    "max_two = lambda x,y : x if x> y else y\n",
    "max_two(4,34)"
   ]
  },
  {
   "cell_type": "code",
   "execution_count": null,
   "id": "fe005aef-9762-416c-a513-c49475df49a8",
   "metadata": {},
   "outputs": [],
   "source": []
  },
  {
   "cell_type": "code",
   "execution_count": 46,
   "id": "26fd5b24-d42d-4491-87a1-50bc7fac4fe7",
   "metadata": {},
   "outputs": [
    {
     "data": {
      "text/plain": [
       "56"
      ]
     },
     "execution_count": 46,
     "metadata": {},
     "output_type": "execute_result"
    }
   ],
   "source": [
    "max_two = lambda x,y : x if x> y else y\n",
    "max_two(34,56)"
   ]
  },
  {
   "cell_type": "code",
   "execution_count": null,
   "id": "2c4d305a-3e33-4661-8323-4490bc355f98",
   "metadata": {},
   "outputs": [],
   "source": []
  },
  {
   "cell_type": "code",
   "execution_count": 47,
   "id": "7294487e-481c-4be5-b930-f5053e3b07b1",
   "metadata": {},
   "outputs": [
    {
     "data": {
      "text/plain": [
       "34"
      ]
     },
     "execution_count": 47,
     "metadata": {},
     "output_type": "execute_result"
    }
   ],
   "source": [
    "max_two = lambda x,y :x if x< y else y\n",
    "max_two(34,44)"
   ]
  },
  {
   "cell_type": "code",
   "execution_count": null,
   "id": "ba2d5b40-ae1c-4c2e-a445-63a8b831186e",
   "metadata": {},
   "outputs": [],
   "source": []
  },
  {
   "cell_type": "code",
   "execution_count": 48,
   "id": "30bad04c-fdaa-40c8-b879-c9e47cd1cbae",
   "metadata": {},
   "outputs": [
    {
     "data": {
      "text/plain": [
       "45"
      ]
     },
     "execution_count": 48,
     "metadata": {},
     "output_type": "execute_result"
    }
   ],
   "source": [
    "max_two = lambda x,y : x if x> y else y\n",
    "max_two(33,45)"
   ]
  },
  {
   "cell_type": "code",
   "execution_count": null,
   "id": "cdef8673-345b-4ff3-b9e3-c7b75a1960af",
   "metadata": {},
   "outputs": [],
   "source": []
  },
  {
   "cell_type": "code",
   "execution_count": 49,
   "id": "2e1af8dc-3759-46ba-ba9e-02282f576540",
   "metadata": {},
   "outputs": [
    {
     "data": {
      "text/plain": [
       "34"
      ]
     },
     "execution_count": 49,
     "metadata": {},
     "output_type": "execute_result"
    }
   ],
   "source": [
    "max_two = lambda x,y : x if x< y else y\n",
    "max_two(34,45)"
   ]
  },
  {
   "cell_type": "code",
   "execution_count": null,
   "id": "8b364715-9ef1-47ea-9d33-cc2c103e6106",
   "metadata": {},
   "outputs": [],
   "source": []
  },
  {
   "cell_type": "code",
   "execution_count": 50,
   "id": "c3bf642b-6873-4f3b-b94d-57bd3ebe446c",
   "metadata": {},
   "outputs": [
    {
     "data": {
      "text/plain": [
       "34"
      ]
     },
     "execution_count": 50,
     "metadata": {},
     "output_type": "execute_result"
    }
   ],
   "source": [
    "max_two = lambda x,y : x if x< y else Y\n",
    "max_two(34,45)"
   ]
  },
  {
   "cell_type": "code",
   "execution_count": null,
   "id": "aa6321ad-eb85-41a2-8b2b-f87240d2bda4",
   "metadata": {},
   "outputs": [],
   "source": []
  },
  {
   "cell_type": "code",
   "execution_count": null,
   "id": "7877e2a1-0e3e-4ca8-b5dc-99335008f03b",
   "metadata": {},
   "outputs": [],
   "source": [
    "#length of string in lambda"
   ]
  },
  {
   "cell_type": "code",
   "execution_count": 51,
   "id": "a2eec07a-d897-484c-998b-d155853cfb04",
   "metadata": {},
   "outputs": [
    {
     "data": {
      "text/plain": [
       "8"
      ]
     },
     "execution_count": 51,
     "metadata": {},
     "output_type": "execute_result"
    }
   ],
   "source": [
    "s = \"pwskills\"\n",
    "len_st = lambda s : len(s)\n",
    "len_st(s)"
   ]
  },
  {
   "cell_type": "code",
   "execution_count": null,
   "id": "116d3792-ca37-4f45-819a-24f458ae82d4",
   "metadata": {},
   "outputs": [],
   "source": []
  },
  {
   "cell_type": "code",
   "execution_count": 52,
   "id": "1cc9a9ec-5a71-413d-87a4-590dad6aaae5",
   "metadata": {},
   "outputs": [
    {
     "data": {
      "text/plain": [
       "8"
      ]
     },
     "execution_count": 52,
     "metadata": {},
     "output_type": "execute_result"
    }
   ],
   "source": [
    "a = \"pwskills\"\n",
    "len_st = lambda a :len(a)\n",
    "len_st(s)"
   ]
  },
  {
   "cell_type": "code",
   "execution_count": null,
   "id": "0ba95895-c46d-4378-8d26-036f39ce3cae",
   "metadata": {},
   "outputs": [],
   "source": []
  },
  {
   "cell_type": "code",
   "execution_count": 53,
   "id": "b35702ec-55f2-4771-a291-38b8922df8f2",
   "metadata": {},
   "outputs": [
    {
     "data": {
      "text/plain": [
       "7"
      ]
     },
     "execution_count": 53,
     "metadata": {},
     "output_type": "execute_result"
    }
   ],
   "source": [
    "a = \"mamabro\"\n",
    "len_st = lambda a : len(a)\n",
    "len_st(a)"
   ]
  },
  {
   "cell_type": "code",
   "execution_count": null,
   "id": "67ce2749-0f6f-46c0-866e-654173d8fd95",
   "metadata": {},
   "outputs": [],
   "source": []
  },
  {
   "cell_type": "code",
   "execution_count": 54,
   "id": "dca78d57-1efb-44bc-8831-f05066b13b3c",
   "metadata": {},
   "outputs": [
    {
     "data": {
      "text/plain": [
       "7"
      ]
     },
     "execution_count": 54,
     "metadata": {},
     "output_type": "execute_result"
    }
   ],
   "source": [
    "a = \"mamabro\"\n",
    "len_st = lambda a :len(a)\n",
    "len_st(a)"
   ]
  },
  {
   "cell_type": "code",
   "execution_count": null,
   "id": "c36afc79-259f-47ea-ba81-94f204d7c134",
   "metadata": {},
   "outputs": [],
   "source": []
  },
  {
   "cell_type": "code",
   "execution_count": 55,
   "id": "b85f9aae-36f4-4720-bbc6-23ccbbc61b52",
   "metadata": {},
   "outputs": [
    {
     "data": {
      "text/plain": [
       "6"
      ]
     },
     "execution_count": 55,
     "metadata": {},
     "output_type": "execute_result"
    }
   ],
   "source": [
    "b = \"mamava\"\n",
    "len_st = lambda b : len(b)\n",
    "len_st(b)"
   ]
  },
  {
   "cell_type": "code",
   "execution_count": null,
   "id": "681b3868-0a83-4895-b812-6033c67e567e",
   "metadata": {},
   "outputs": [],
   "source": []
  },
  {
   "cell_type": "code",
   "execution_count": 56,
   "id": "cd4b9e9b-2326-4d95-8496-36802cf2cfd1",
   "metadata": {},
   "outputs": [
    {
     "data": {
      "text/plain": [
       "7"
      ]
     },
     "execution_count": 56,
     "metadata": {},
     "output_type": "execute_result"
    }
   ],
   "source": [
    "f = \"papabro\"\n",
    "len_st = lambda f : len(f)\n",
    "len_st(f)"
   ]
  },
  {
   "cell_type": "code",
   "execution_count": null,
   "id": "95b6f1b8-d679-44b4-913e-0c4f3b2e8e96",
   "metadata": {},
   "outputs": [],
   "source": []
  },
  {
   "cell_type": "code",
   "execution_count": 57,
   "id": "5aeeb62e-1e65-44d7-9606-3823e70fb51c",
   "metadata": {},
   "outputs": [
    {
     "data": {
      "text/plain": [
       "7"
      ]
     },
     "execution_count": 57,
     "metadata": {},
     "output_type": "execute_result"
    }
   ],
   "source": [
    "a = \"bababro\"\n",
    "len_st = lambda a : len(a)\n",
    "len_st(a)"
   ]
  },
  {
   "cell_type": "code",
   "execution_count": null,
   "id": "dc907086-7d67-4eb7-ad18-12adc7af9958",
   "metadata": {},
   "outputs": [],
   "source": []
  },
  {
   "cell_type": "code",
   "execution_count": 58,
   "id": "247d6fe9-216b-475f-91c2-5a5d97fa7c29",
   "metadata": {},
   "outputs": [
    {
     "data": {
      "text/plain": [
       "6"
      ]
     },
     "execution_count": 58,
     "metadata": {},
     "output_type": "execute_result"
    }
   ],
   "source": [
    "k = \"papava\"\n",
    "len_st = lambda k : len(k)\n",
    "len_st(k)"
   ]
  },
  {
   "cell_type": "code",
   "execution_count": null,
   "id": "329c350d-c980-481d-b12f-73f813140ceb",
   "metadata": {},
   "outputs": [],
   "source": []
  }
 ],
 "metadata": {
  "kernelspec": {
   "display_name": "Python 3 (ipykernel)",
   "language": "python",
   "name": "python3"
  },
  "language_info": {
   "codemirror_mode": {
    "name": "ipython",
    "version": 3
   },
   "file_extension": ".py",
   "mimetype": "text/x-python",
   "name": "python",
   "nbconvert_exporter": "python",
   "pygments_lexer": "ipython3",
   "version": "3.10.8"
  }
 },
 "nbformat": 4,
 "nbformat_minor": 5
}
