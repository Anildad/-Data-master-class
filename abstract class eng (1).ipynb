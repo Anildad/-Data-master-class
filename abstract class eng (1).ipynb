{
 "cells": [
  {
   "cell_type": "code",
   "execution_count": 2,
   "id": "676aec02-637c-4012-bb27-73b95d32a13e",
   "metadata": {},
   "outputs": [],
   "source": [
    "import abc\n",
    "  \n",
    "class pwskills :\n",
    "    \n",
    "    @abc.abstractmethod\n",
    "    def student_details(self):\n",
    "        pass\n",
    "        \n",
    "        \n",
    "    @abc.abstractmethod\n",
    "    def student_assignment(self):\n",
    "        pass\n",
    "    \n",
    "    @abc.abstractmethod\n",
    "    def student_marks(self):\n",
    "            pass\n",
    "            "
   ]
  },
  {
   "cell_type": "code",
   "execution_count": null,
   "id": "70690807-dc30-4a0d-8772-b92733794058",
   "metadata": {},
   "outputs": [],
   "source": [
    "class data_science(pwskills):\n",
    "    def student_details(self):\n",
    "        return \"it will try to return a details of data science masters \"\n",
    "    \n",
    "    def student_assignment(self):\n",
    "        return \"it will return a details of student assignment for data science masters \""
   ]
  },
  {
   "cell_type": "code",
   "execution_count": 8,
   "id": "6e033e2a-ffa7-4869-bfce-32a8a526a093",
   "metadata": {},
   "outputs": [],
   "source": [
    "class web_dev(pwskills):\n",
    "     def student_details(self):\n",
    "            return \"this will retrun a detils of web dev \"\n",
    "    \n",
    "    \n",
    "     def student_marks(self):\n",
    "             return \"this will return a makrs of web dev class\""
   ]
  },
  {
   "cell_type": "code",
   "execution_count": 9,
   "id": "4ba10e82-16a9-45be-8e5d-8dfc3cd7b736",
   "metadata": {},
   "outputs": [
    {
     "data": {
      "text/plain": [
       "'it will try to return a details of data science masters '"
      ]
     },
     "execution_count": 9,
     "metadata": {},
     "output_type": "execute_result"
    }
   ],
   "source": [
    "ds = data_science()\n",
    "ds.student_details()"
   ]
  },
  {
   "cell_type": "code",
   "execution_count": 10,
   "id": "767d739d-3a23-45ce-a18c-8c8669e0ea10",
   "metadata": {},
   "outputs": [
    {
     "data": {
      "text/plain": [
       "'this will retrun a detils of web dev '"
      ]
     },
     "execution_count": 10,
     "metadata": {},
     "output_type": "execute_result"
    }
   ],
   "source": [
    "wb = web_dev()\n",
    "wb.student_details()"
   ]
  },
  {
   "cell_type": "code",
   "execution_count": null,
   "id": "dded98ca-2540-4f11-97cf-8da23f34ba73",
   "metadata": {},
   "outputs": [],
   "source": []
  },
  {
   "cell_type": "code",
   "execution_count": null,
   "id": "7ad9823b-3802-4cbb-b05d-02e9871aa71c",
   "metadata": {},
   "outputs": [],
   "source": []
  },
  {
   "cell_type": "code",
   "execution_count": 4,
   "id": "97ea860a-e226-4086-b351-062ebff4cf46",
   "metadata": {},
   "outputs": [],
   "source": [
    "import abc\n",
    "\n",
    "class pwskills :\n",
    "    \n",
    "    @abc.abstractmethod\n",
    "    def student_details(self):\n",
    "        pass\n",
    "    \n",
    "    @abc.abstractmethod\n",
    "    def student_assignment(self):\n",
    "        pass\n",
    "    \n",
    "    \n",
    "    @abc.abstractmethod\n",
    "    def student_marks(self):\n",
    "        pass"
   ]
  },
  {
   "cell_type": "code",
   "execution_count": 5,
   "id": "8434e817-2918-42a8-b0dc-a19b1f255cae",
   "metadata": {},
   "outputs": [],
   "source": [
    "class data_science(pwskills):\n",
    "    \n",
    "    def student_details(self):\n",
    "        return \"it will try to return a details of data science masters \"\n",
    "    \n",
    "    def student_assignment(self):\n",
    "        return \"it will return a details of student assignemnt for data science masters \"\n",
    "    "
   ]
  },
  {
   "cell_type": "code",
   "execution_count": 8,
   "id": "e7dc96d4-5549-4c15-ad9f-e59dbb3dd8ea",
   "metadata": {},
   "outputs": [],
   "source": [
    "class web_dev(pwskills):\n",
    "     def student_details(self):\n",
    "            return \"this will retrun a detils of web dev \"\n",
    "    \n",
    "    \n",
    "     def student_marks(self):\n",
    "             return \"this will return a makrs of web dev class\""
   ]
  },
  {
   "cell_type": "code",
   "execution_count": 9,
   "id": "a16095c9-d76a-400b-8907-e35458819a59",
   "metadata": {},
   "outputs": [
    {
     "data": {
      "text/plain": [
       "'it will try to return a details of data science masters '"
      ]
     },
     "execution_count": 9,
     "metadata": {},
     "output_type": "execute_result"
    }
   ],
   "source": [
    "ds = data_science()\n",
    "ds.student_details()"
   ]
  },
  {
   "cell_type": "code",
   "execution_count": 10,
   "id": "c49cbd12-489c-47d7-9372-c33efe66d3e8",
   "metadata": {},
   "outputs": [
    {
     "data": {
      "text/plain": [
       "'this will retrun a detils of web dev '"
      ]
     },
     "execution_count": 10,
     "metadata": {},
     "output_type": "execute_result"
    }
   ],
   "source": [
    "wb = web_dev()\n",
    "wb.student_details()"
   ]
  },
  {
   "cell_type": "code",
   "execution_count": null,
   "id": "29c5325c-fa69-4de7-8974-bf78c95577c5",
   "metadata": {},
   "outputs": [],
   "source": []
  },
  {
   "cell_type": "code",
   "execution_count": 4,
   "id": "2bd94a3f-ad9c-496c-8836-7462d0b48154",
   "metadata": {},
   "outputs": [],
   "source": [
    "import abc\n",
    "class pwskills :\n",
    "    \n",
    "    @abc.abstractmethod \n",
    "    def student_details (self):\n",
    "        pass\n",
    "    \n",
    "    @abc.abstractmethod\n",
    "    def student_assignment(self):\n",
    "        pass\n",
    "    \n",
    "    @abc.abstractmethod\n",
    "    def student_marks(self):\n",
    "        pass"
   ]
  },
  {
   "cell_type": "code",
   "execution_count": null,
   "id": "16dafb1b-f761-4d95-ae34-e72cb9417bd4",
   "metadata": {},
   "outputs": [],
   "source": [
    "class data_science(pwskills):\n",
    "    \n",
    "    def student_details(self):\n",
    "        return \"it will try to return a details of data_science masters\"\n",
    "    \n",
    "    def student_assignment(self):\n",
    "        return \"it will return a details of student assignment for data science masters \""
   ]
  },
  {
   "cell_type": "code",
   "execution_count": 5,
   "id": "9fffb612-8407-45e5-8da6-6b37e4e41904",
   "metadata": {},
   "outputs": [],
   "source": [
    "class web_dev(pwskills):\n",
    "    \n",
    "    def student_details(self):\n",
    "        return \"this will return a details of web dev \"\n",
    "    \n",
    "    def student_marks(self):\n",
    "        return \"this will return a marks of web dev_class \""
   ]
  },
  {
   "cell_type": "code",
   "execution_count": 9,
   "id": "eaf0f431-9549-4a80-870e-44c48b09eadf",
   "metadata": {},
   "outputs": [
    {
     "ename": "NameError",
     "evalue": "name 'data_science' is not defined",
     "output_type": "error",
     "traceback": [
      "\u001b[0;31m---------------------------------------------------------------------------\u001b[0m",
      "\u001b[0;31mNameError\u001b[0m                                 Traceback (most recent call last)",
      "Cell \u001b[0;32mIn[9], line 1\u001b[0m\n\u001b[0;32m----> 1\u001b[0m ds \u001b[38;5;241m=\u001b[39m \u001b[43mdata_science\u001b[49m()\n\u001b[1;32m      2\u001b[0m ds\u001b[38;5;241m.\u001b[39mstudent_details()\n",
      "\u001b[0;31mNameError\u001b[0m: name 'data_science' is not defined"
     ]
    }
   ],
   "source": [
    "ds = data_science()\n",
    "ds.student_details()"
   ]
  },
  {
   "cell_type": "code",
   "execution_count": 7,
   "id": "bf666a61-ec4b-4ef2-b6c1-df2e36996a8c",
   "metadata": {},
   "outputs": [
    {
     "data": {
      "text/plain": [
       "'this will return a details of web dev '"
      ]
     },
     "execution_count": 7,
     "metadata": {},
     "output_type": "execute_result"
    }
   ],
   "source": [
    "wb =web_dev()\n",
    "wb.student_details()"
   ]
  },
  {
   "cell_type": "code",
   "execution_count": null,
   "id": "ea82fd64-c8ca-4652-b6b4-414ecc1bb733",
   "metadata": {},
   "outputs": [],
   "source": []
  },
  {
   "cell_type": "code",
   "execution_count": null,
   "id": "98939bf2-a68a-40a4-bb19-cb49d5c37b1b",
   "metadata": {},
   "outputs": [],
   "source": []
  },
  {
   "cell_type": "code",
   "execution_count": null,
   "id": "ff826dc2-d3dc-433f-8f4c-a4d206023a41",
   "metadata": {},
   "outputs": [],
   "source": []
  },
  {
   "cell_type": "code",
   "execution_count": null,
   "id": "562f6f3a-a01f-4e0f-9228-a3538e84c8c0",
   "metadata": {},
   "outputs": [],
   "source": []
  },
  {
   "cell_type": "code",
   "execution_count": null,
   "id": "12442210-84bf-409c-ba29-dab01ecac7c0",
   "metadata": {},
   "outputs": [],
   "source": []
  },
  {
   "cell_type": "code",
   "execution_count": null,
   "id": "082be60a-0d9d-4fe2-98c5-8293c6d60410",
   "metadata": {},
   "outputs": [],
   "source": []
  },
  {
   "cell_type": "code",
   "execution_count": null,
   "id": "2f54507a-bd6e-4c4e-bcff-aaa9e82d209c",
   "metadata": {},
   "outputs": [],
   "source": []
  }
 ],
 "metadata": {
  "kernelspec": {
   "display_name": "Python 3 (ipykernel)",
   "language": "python",
   "name": "python3"
  },
  "language_info": {
   "codemirror_mode": {
    "name": "ipython",
    "version": 3
   },
   "file_extension": ".py",
   "mimetype": "text/x-python",
   "name": "python",
   "nbconvert_exporter": "python",
   "pygments_lexer": "ipython3",
   "version": "3.10.8"
  }
 },
 "nbformat": 4,
 "nbformat_minor": 5
}
